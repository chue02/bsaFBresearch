{
 "cells": [
  {
   "cell_type": "markdown",
   "id": "96972fcd-d716-41bf-9850-691d5f105628",
   "metadata": {},
   "source": [
    "## Data Collection and Preprocessing"
   ]
  },
  {
   "cell_type": "code",
   "execution_count": 26,
   "id": "6c28eca2-60d4-44f8-b826-37840a5acb17",
   "metadata": {},
   "outputs": [],
   "source": [
    "import math\n",
    "import pandas as pd\n",
    "import os\n",
    "import xgboost as xgb\n",
    "from sklearn.preprocessing import StandardScaler, LabelEncoder, StandardScaler\n",
    "from sklearn.cluster import KMeans\n",
    "from sklearn.metrics import silhouette_score, mean_absolute_error, mean_squared_error, r2_score\n",
    "import matplotlib.pyplot as plt\n",
    "import seaborn as sns\n",
    "from sklearn.model_selection import train_test_split, RandomizedSearchCV\n"
   ]
  },
  {
   "cell_type": "code",
   "execution_count": 2,
   "id": "846241b8-aece-49f8-8164-7741144231b4",
   "metadata": {},
   "outputs": [],
   "source": [
    "pd.set_option('display.max_columns', None)"
   ]
  },
  {
   "cell_type": "code",
   "execution_count": 3,
   "id": "4600a45e-65ce-41c0-929c-52ef2839c37f",
   "metadata": {},
   "outputs": [],
   "source": [
    "# Initialize dictionaries of dataframes\n",
    "\n",
    "data = {}\n",
    "years = [18, 19, 20, 21, 22, 23]\n"
   ]
  },
  {
   "cell_type": "code",
   "execution_count": 4,
   "id": "7508061a-b2ff-4a36-8dcf-891538243526",
   "metadata": {},
   "outputs": [
    {
     "name": "stdout",
     "output_type": "stream",
     "text": [
      "Done\n"
     ]
    },
    {
     "name": "stderr",
     "output_type": "stream",
     "text": [
      "/var/folders/z2/rm0rvjws51g2b4p7_0ns_31w0000gp/T/ipykernel_93230/962884901.py:4: DtypeWarning: Columns (30,31) have mixed types. Specify dtype option on import or set low_memory=False.\n",
      "  data[x] = pd.read_csv('../cleanData/refined/pbp_refined_20' + str(x) + '.csv')\n"
     ]
    }
   ],
   "source": [
    "# Obtain data\n",
    "\n",
    "for x in years:\n",
    "    data[x] = pd.read_csv('../cleanData/refined/pbp_refined_20' + str(x) + '.csv')\n",
    "\n",
    "print(\"Done\")"
   ]
  },
  {
   "cell_type": "code",
   "execution_count": 5,
   "id": "56b8f5f9-8dbc-4eb8-a869-bcffd16077f0",
   "metadata": {},
   "outputs": [],
   "source": [
    "# Create one large dataframe of all the data\n",
    "\n",
    "df = pd.concat(data, ignore_index=True)"
   ]
  },
  {
   "cell_type": "code",
   "execution_count": 13,
   "id": "6acc0455-b186-4f47-bd86-0e73a80a453e",
   "metadata": {},
   "outputs": [
    {
     "data": {
      "text/plain": [
       "Index(['Unnamed: 0.1', 'Unnamed: 0', 'Unnamed: 0_pbp', 'play_id', 'game_id',\n",
       "       'old_game_id', 'home_team', 'away_team', 'season_type', 'week',\n",
       "       'posteam', 'posteam_type', 'defteam', 'side_of_field', 'yardline_100',\n",
       "       'game_date', 'quarter_seconds_remaining', 'game_seconds_remaining',\n",
       "       'qtr', 'down', 'time', 'ydstogo', 'play_type', 'yards_gained',\n",
       "       'no_huddle', 'qb_scramble', 'pass_length', 'pass_location', 'air_yards',\n",
       "       'yards_after_catch', 'run_location', 'run_gap',\n",
       "       'posteam_timeouts_remaining', 'total_home_score', 'total_away_score',\n",
       "       'posteam_score', 'defteam_score', 'score_differential',\n",
       "       'score_differential_post', 'no_score_prob', 'ep', 'epa', 'wp', 'def_wp',\n",
       "       'home_wp', 'away_wp', 'wpa', 'season', 'play_type_nfl', 'out_of_bounds',\n",
       "       'Unnamed: 0_pbp_part', 'nflverse_game_id', 'possession_team',\n",
       "       'offense_formation', 'offense_personnel', 'defenders_in_box',\n",
       "       'defense_personnel', 'number_of_pass_rushers', 'ngs_air_yards',\n",
       "       'time_to_throw', 'was_pressure', 'route', 'defense_man_zone_type',\n",
       "       'defense_coverage_type'],\n",
       "      dtype='object')"
      ]
     },
     "execution_count": 13,
     "metadata": {},
     "output_type": "execute_result"
    }
   ],
   "source": [
    "df.columns\n",
    "\n",
    "#print(df.info())"
   ]
  },
  {
   "cell_type": "code",
   "execution_count": 21,
   "id": "b5ba71e3-f6de-47a1-94d2-910c31518341",
   "metadata": {},
   "outputs": [
    {
     "name": "stdout",
     "output_type": "stream",
     "text": [
      "(5030, 64)\n"
     ]
    }
   ],
   "source": [
    "# Filter data based on 2 min drill\n",
    "\n",
    "df = df[df['offense_personnel'] == '1 RB, 1 TE, 3 WR']\n",
    "df = df[df['qtr'] == 4]\n",
    "df = df[df['quarter_seconds_remaining'] <= 120]\n",
    "\n",
    "df.dropna(subset=['epa'], inplace=True) # For some reason there is a NaN for EPA in 18385\n",
    "\n",
    "print(df.shape)"
   ]
  },
  {
   "cell_type": "code",
   "execution_count": 22,
   "id": "ebc4a199-ccb9-4c37-8313-4f5e7d385697",
   "metadata": {},
   "outputs": [
    {
     "name": "stdout",
     "output_type": "stream",
     "text": [
      "(5030, 69)\n"
     ]
    }
   ],
   "source": [
    "# Encode categorical features\n",
    "\n",
    "le_route = LabelEncoder()\n",
    "df['route_encoded'] = le_route.fit_transform(df['route'])\n",
    "\n",
    "le_coverage = LabelEncoder()\n",
    "df['coverage_encoded'] = le_coverage.fit_transform(df['defense_coverage_type'])\n",
    "\n",
    "le_pressure = LabelEncoder()\n",
    "df['pressure_encoded'] = le_pressure.fit_transform(df['was_pressure'])\n",
    "\n",
    "le_length = LabelEncoder()\n",
    "df['length_encoded'] = le_length.fit_transform(df['pass_length'])\n",
    "\n",
    "le_location = LabelEncoder()\n",
    "df['location_encoded'] = le_location.fit_transform(df['pass_location'])\n",
    "\n",
    "\n",
    "print(df.shape)"
   ]
  },
  {
   "cell_type": "markdown",
   "id": "807111d5-2b6e-4415-9051-8a4926aae546",
   "metadata": {},
   "source": [
    "## Model Implementation"
   ]
  },
  {
   "cell_type": "code",
   "execution_count": 23,
   "id": "6fb9f5d8-556e-4947-907c-1ea2d04832a9",
   "metadata": {},
   "outputs": [],
   "source": [
    "#X = df[['yardline_100', 'quarter_seconds_remaining', 'ydstogo', 'play_type', 'yards_gained', 'no_huddle', 'qb_scramble', 'pass_length', \n",
    "#        'pass_location', 'air_yards', 'yards_after_catch', 'run_location', 'run_gap', 'score_differential', 'epa', 'out_of_bounds',\n",
    "#        'offense_formation', 'offense_personnel', 'defenders_in_box', 'defense_personnel', 'number_of_pass_rushers', 'ngs_air_yards',\n",
    "#        'time_to_throw', 'was_pressure', 'route']]\n",
    "\n",
    "X = df[['yardline_100', 'quarter_seconds_remaining', 'down', 'ydstogo', 'no_huddle', 'length_encoded', 'location_encoded', 'out_of_bounds',\n",
    "        'posteam_timeouts_remaining', 'defenders_in_box', 'number_of_pass_rushers', 'time_to_throw', 'pressure_encoded', \n",
    "        'route_encoded', 'coverage_encoded', 'score_differential_post']]\n",
    "\n",
    "y = df[['epa']]\n"
   ]
  },
  {
   "cell_type": "code",
   "execution_count": 37,
   "id": "71157342-98f4-438e-96fa-b88de7d4c9a1",
   "metadata": {},
   "outputs": [],
   "source": [
    "# Split the data into training and testing sets\n",
    "X_train, X_test, y_train, y_test, = train_test_split(\n",
    "    X, y, test_size=0.2, random_state=97\n",
    ")\n",
    "\n",
    "# Initialize model to tune\n",
    "model_epa_basic = xgb.XGBRegressor(objective=\"reg:squarederror\")\n",
    "\n",
    "# Define the parameter grid\n",
    "param_dist = {\n",
    "    'max_depth': [3, 4, 5, 6, 7, 8],\n",
    "    'learning_rate': [0.01, 0.05, 0.1, 0.2],\n",
    "    'n_estimators': [50, 100, 150],\n",
    "    'subsample': [0.7, 0.8, 0.9, 1.0],\n",
    "    'colsample_bytree': [0.7, 0.8, 0.9, 1.0]\n",
    "}\n"
   ]
  },
  {
   "cell_type": "code",
   "execution_count": 38,
   "id": "ebaa6c1a-98c6-4c83-826a-0bdea922cb90",
   "metadata": {},
   "outputs": [
    {
     "name": "stdout",
     "output_type": "stream",
     "text": [
      "Best parameters found:  {'subsample': 0.8, 'n_estimators': 50, 'max_depth': 6, 'learning_rate': 0.05, 'colsample_bytree': 1.0}\n"
     ]
    }
   ],
   "source": [
    "# Use RandomizedSearchCV to explore hyperparameter space\n",
    "random_search = RandomizedSearchCV(estimator=model_epa_basic, param_distributions=param_dist, \n",
    "                                   n_iter=100, scoring='neg_mean_squared_error', cv=5)\n",
    "\n",
    "random_search.fit(X_train, y_train)\n",
    "\n",
    "# Get the best parameters\n",
    "print(\"Best parameters found: \", random_search.best_params_)\n",
    "\n",
    "# In case you don't want to execute the search, the results were the following:\n",
    "# Best parameters found: {'subsample': 0.8, 'n_estimators': 50, 'max_depth': 6, 'learning_rate': 0.05, 'colsample_bytree': 1.0}"
   ]
  },
  {
   "cell_type": "code",
   "execution_count": 39,
   "id": "8090fc2c-40a3-4fc5-bd89-92d7187d4b5d",
   "metadata": {},
   "outputs": [
    {
     "data": {
      "text/html": [
       "<style>#sk-container-id-3 {\n",
       "  /* Definition of color scheme common for light and dark mode */\n",
       "  --sklearn-color-text: black;\n",
       "  --sklearn-color-line: gray;\n",
       "  /* Definition of color scheme for unfitted estimators */\n",
       "  --sklearn-color-unfitted-level-0: #fff5e6;\n",
       "  --sklearn-color-unfitted-level-1: #f6e4d2;\n",
       "  --sklearn-color-unfitted-level-2: #ffe0b3;\n",
       "  --sklearn-color-unfitted-level-3: chocolate;\n",
       "  /* Definition of color scheme for fitted estimators */\n",
       "  --sklearn-color-fitted-level-0: #f0f8ff;\n",
       "  --sklearn-color-fitted-level-1: #d4ebff;\n",
       "  --sklearn-color-fitted-level-2: #b3dbfd;\n",
       "  --sklearn-color-fitted-level-3: cornflowerblue;\n",
       "\n",
       "  /* Specific color for light theme */\n",
       "  --sklearn-color-text-on-default-background: var(--sg-text-color, var(--theme-code-foreground, var(--jp-content-font-color1, black)));\n",
       "  --sklearn-color-background: var(--sg-background-color, var(--theme-background, var(--jp-layout-color0, white)));\n",
       "  --sklearn-color-border-box: var(--sg-text-color, var(--theme-code-foreground, var(--jp-content-font-color1, black)));\n",
       "  --sklearn-color-icon: #696969;\n",
       "\n",
       "  @media (prefers-color-scheme: dark) {\n",
       "    /* Redefinition of color scheme for dark theme */\n",
       "    --sklearn-color-text-on-default-background: var(--sg-text-color, var(--theme-code-foreground, var(--jp-content-font-color1, white)));\n",
       "    --sklearn-color-background: var(--sg-background-color, var(--theme-background, var(--jp-layout-color0, #111)));\n",
       "    --sklearn-color-border-box: var(--sg-text-color, var(--theme-code-foreground, var(--jp-content-font-color1, white)));\n",
       "    --sklearn-color-icon: #878787;\n",
       "  }\n",
       "}\n",
       "\n",
       "#sk-container-id-3 {\n",
       "  color: var(--sklearn-color-text);\n",
       "}\n",
       "\n",
       "#sk-container-id-3 pre {\n",
       "  padding: 0;\n",
       "}\n",
       "\n",
       "#sk-container-id-3 input.sk-hidden--visually {\n",
       "  border: 0;\n",
       "  clip: rect(1px 1px 1px 1px);\n",
       "  clip: rect(1px, 1px, 1px, 1px);\n",
       "  height: 1px;\n",
       "  margin: -1px;\n",
       "  overflow: hidden;\n",
       "  padding: 0;\n",
       "  position: absolute;\n",
       "  width: 1px;\n",
       "}\n",
       "\n",
       "#sk-container-id-3 div.sk-dashed-wrapped {\n",
       "  border: 1px dashed var(--sklearn-color-line);\n",
       "  margin: 0 0.4em 0.5em 0.4em;\n",
       "  box-sizing: border-box;\n",
       "  padding-bottom: 0.4em;\n",
       "  background-color: var(--sklearn-color-background);\n",
       "}\n",
       "\n",
       "#sk-container-id-3 div.sk-container {\n",
       "  /* jupyter's `normalize.less` sets `[hidden] { display: none; }`\n",
       "     but bootstrap.min.css set `[hidden] { display: none !important; }`\n",
       "     so we also need the `!important` here to be able to override the\n",
       "     default hidden behavior on the sphinx rendered scikit-learn.org.\n",
       "     See: https://github.com/scikit-learn/scikit-learn/issues/21755 */\n",
       "  display: inline-block !important;\n",
       "  position: relative;\n",
       "}\n",
       "\n",
       "#sk-container-id-3 div.sk-text-repr-fallback {\n",
       "  display: none;\n",
       "}\n",
       "\n",
       "div.sk-parallel-item,\n",
       "div.sk-serial,\n",
       "div.sk-item {\n",
       "  /* draw centered vertical line to link estimators */\n",
       "  background-image: linear-gradient(var(--sklearn-color-text-on-default-background), var(--sklearn-color-text-on-default-background));\n",
       "  background-size: 2px 100%;\n",
       "  background-repeat: no-repeat;\n",
       "  background-position: center center;\n",
       "}\n",
       "\n",
       "/* Parallel-specific style estimator block */\n",
       "\n",
       "#sk-container-id-3 div.sk-parallel-item::after {\n",
       "  content: \"\";\n",
       "  width: 100%;\n",
       "  border-bottom: 2px solid var(--sklearn-color-text-on-default-background);\n",
       "  flex-grow: 1;\n",
       "}\n",
       "\n",
       "#sk-container-id-3 div.sk-parallel {\n",
       "  display: flex;\n",
       "  align-items: stretch;\n",
       "  justify-content: center;\n",
       "  background-color: var(--sklearn-color-background);\n",
       "  position: relative;\n",
       "}\n",
       "\n",
       "#sk-container-id-3 div.sk-parallel-item {\n",
       "  display: flex;\n",
       "  flex-direction: column;\n",
       "}\n",
       "\n",
       "#sk-container-id-3 div.sk-parallel-item:first-child::after {\n",
       "  align-self: flex-end;\n",
       "  width: 50%;\n",
       "}\n",
       "\n",
       "#sk-container-id-3 div.sk-parallel-item:last-child::after {\n",
       "  align-self: flex-start;\n",
       "  width: 50%;\n",
       "}\n",
       "\n",
       "#sk-container-id-3 div.sk-parallel-item:only-child::after {\n",
       "  width: 0;\n",
       "}\n",
       "\n",
       "/* Serial-specific style estimator block */\n",
       "\n",
       "#sk-container-id-3 div.sk-serial {\n",
       "  display: flex;\n",
       "  flex-direction: column;\n",
       "  align-items: center;\n",
       "  background-color: var(--sklearn-color-background);\n",
       "  padding-right: 1em;\n",
       "  padding-left: 1em;\n",
       "}\n",
       "\n",
       "\n",
       "/* Toggleable style: style used for estimator/Pipeline/ColumnTransformer box that is\n",
       "clickable and can be expanded/collapsed.\n",
       "- Pipeline and ColumnTransformer use this feature and define the default style\n",
       "- Estimators will overwrite some part of the style using the `sk-estimator` class\n",
       "*/\n",
       "\n",
       "/* Pipeline and ColumnTransformer style (default) */\n",
       "\n",
       "#sk-container-id-3 div.sk-toggleable {\n",
       "  /* Default theme specific background. It is overwritten whether we have a\n",
       "  specific estimator or a Pipeline/ColumnTransformer */\n",
       "  background-color: var(--sklearn-color-background);\n",
       "}\n",
       "\n",
       "/* Toggleable label */\n",
       "#sk-container-id-3 label.sk-toggleable__label {\n",
       "  cursor: pointer;\n",
       "  display: block;\n",
       "  width: 100%;\n",
       "  margin-bottom: 0;\n",
       "  padding: 0.5em;\n",
       "  box-sizing: border-box;\n",
       "  text-align: center;\n",
       "}\n",
       "\n",
       "#sk-container-id-3 label.sk-toggleable__label-arrow:before {\n",
       "  /* Arrow on the left of the label */\n",
       "  content: \"▸\";\n",
       "  float: left;\n",
       "  margin-right: 0.25em;\n",
       "  color: var(--sklearn-color-icon);\n",
       "}\n",
       "\n",
       "#sk-container-id-3 label.sk-toggleable__label-arrow:hover:before {\n",
       "  color: var(--sklearn-color-text);\n",
       "}\n",
       "\n",
       "/* Toggleable content - dropdown */\n",
       "\n",
       "#sk-container-id-3 div.sk-toggleable__content {\n",
       "  max-height: 0;\n",
       "  max-width: 0;\n",
       "  overflow: hidden;\n",
       "  text-align: left;\n",
       "  /* unfitted */\n",
       "  background-color: var(--sklearn-color-unfitted-level-0);\n",
       "}\n",
       "\n",
       "#sk-container-id-3 div.sk-toggleable__content.fitted {\n",
       "  /* fitted */\n",
       "  background-color: var(--sklearn-color-fitted-level-0);\n",
       "}\n",
       "\n",
       "#sk-container-id-3 div.sk-toggleable__content pre {\n",
       "  margin: 0.2em;\n",
       "  border-radius: 0.25em;\n",
       "  color: var(--sklearn-color-text);\n",
       "  /* unfitted */\n",
       "  background-color: var(--sklearn-color-unfitted-level-0);\n",
       "}\n",
       "\n",
       "#sk-container-id-3 div.sk-toggleable__content.fitted pre {\n",
       "  /* unfitted */\n",
       "  background-color: var(--sklearn-color-fitted-level-0);\n",
       "}\n",
       "\n",
       "#sk-container-id-3 input.sk-toggleable__control:checked~div.sk-toggleable__content {\n",
       "  /* Expand drop-down */\n",
       "  max-height: 200px;\n",
       "  max-width: 100%;\n",
       "  overflow: auto;\n",
       "}\n",
       "\n",
       "#sk-container-id-3 input.sk-toggleable__control:checked~label.sk-toggleable__label-arrow:before {\n",
       "  content: \"▾\";\n",
       "}\n",
       "\n",
       "/* Pipeline/ColumnTransformer-specific style */\n",
       "\n",
       "#sk-container-id-3 div.sk-label input.sk-toggleable__control:checked~label.sk-toggleable__label {\n",
       "  color: var(--sklearn-color-text);\n",
       "  background-color: var(--sklearn-color-unfitted-level-2);\n",
       "}\n",
       "\n",
       "#sk-container-id-3 div.sk-label.fitted input.sk-toggleable__control:checked~label.sk-toggleable__label {\n",
       "  background-color: var(--sklearn-color-fitted-level-2);\n",
       "}\n",
       "\n",
       "/* Estimator-specific style */\n",
       "\n",
       "/* Colorize estimator box */\n",
       "#sk-container-id-3 div.sk-estimator input.sk-toggleable__control:checked~label.sk-toggleable__label {\n",
       "  /* unfitted */\n",
       "  background-color: var(--sklearn-color-unfitted-level-2);\n",
       "}\n",
       "\n",
       "#sk-container-id-3 div.sk-estimator.fitted input.sk-toggleable__control:checked~label.sk-toggleable__label {\n",
       "  /* fitted */\n",
       "  background-color: var(--sklearn-color-fitted-level-2);\n",
       "}\n",
       "\n",
       "#sk-container-id-3 div.sk-label label.sk-toggleable__label,\n",
       "#sk-container-id-3 div.sk-label label {\n",
       "  /* The background is the default theme color */\n",
       "  color: var(--sklearn-color-text-on-default-background);\n",
       "}\n",
       "\n",
       "/* On hover, darken the color of the background */\n",
       "#sk-container-id-3 div.sk-label:hover label.sk-toggleable__label {\n",
       "  color: var(--sklearn-color-text);\n",
       "  background-color: var(--sklearn-color-unfitted-level-2);\n",
       "}\n",
       "\n",
       "/* Label box, darken color on hover, fitted */\n",
       "#sk-container-id-3 div.sk-label.fitted:hover label.sk-toggleable__label.fitted {\n",
       "  color: var(--sklearn-color-text);\n",
       "  background-color: var(--sklearn-color-fitted-level-2);\n",
       "}\n",
       "\n",
       "/* Estimator label */\n",
       "\n",
       "#sk-container-id-3 div.sk-label label {\n",
       "  font-family: monospace;\n",
       "  font-weight: bold;\n",
       "  display: inline-block;\n",
       "  line-height: 1.2em;\n",
       "}\n",
       "\n",
       "#sk-container-id-3 div.sk-label-container {\n",
       "  text-align: center;\n",
       "}\n",
       "\n",
       "/* Estimator-specific */\n",
       "#sk-container-id-3 div.sk-estimator {\n",
       "  font-family: monospace;\n",
       "  border: 1px dotted var(--sklearn-color-border-box);\n",
       "  border-radius: 0.25em;\n",
       "  box-sizing: border-box;\n",
       "  margin-bottom: 0.5em;\n",
       "  /* unfitted */\n",
       "  background-color: var(--sklearn-color-unfitted-level-0);\n",
       "}\n",
       "\n",
       "#sk-container-id-3 div.sk-estimator.fitted {\n",
       "  /* fitted */\n",
       "  background-color: var(--sklearn-color-fitted-level-0);\n",
       "}\n",
       "\n",
       "/* on hover */\n",
       "#sk-container-id-3 div.sk-estimator:hover {\n",
       "  /* unfitted */\n",
       "  background-color: var(--sklearn-color-unfitted-level-2);\n",
       "}\n",
       "\n",
       "#sk-container-id-3 div.sk-estimator.fitted:hover {\n",
       "  /* fitted */\n",
       "  background-color: var(--sklearn-color-fitted-level-2);\n",
       "}\n",
       "\n",
       "/* Specification for estimator info (e.g. \"i\" and \"?\") */\n",
       "\n",
       "/* Common style for \"i\" and \"?\" */\n",
       "\n",
       ".sk-estimator-doc-link,\n",
       "a:link.sk-estimator-doc-link,\n",
       "a:visited.sk-estimator-doc-link {\n",
       "  float: right;\n",
       "  font-size: smaller;\n",
       "  line-height: 1em;\n",
       "  font-family: monospace;\n",
       "  background-color: var(--sklearn-color-background);\n",
       "  border-radius: 1em;\n",
       "  height: 1em;\n",
       "  width: 1em;\n",
       "  text-decoration: none !important;\n",
       "  margin-left: 1ex;\n",
       "  /* unfitted */\n",
       "  border: var(--sklearn-color-unfitted-level-1) 1pt solid;\n",
       "  color: var(--sklearn-color-unfitted-level-1);\n",
       "}\n",
       "\n",
       ".sk-estimator-doc-link.fitted,\n",
       "a:link.sk-estimator-doc-link.fitted,\n",
       "a:visited.sk-estimator-doc-link.fitted {\n",
       "  /* fitted */\n",
       "  border: var(--sklearn-color-fitted-level-1) 1pt solid;\n",
       "  color: var(--sklearn-color-fitted-level-1);\n",
       "}\n",
       "\n",
       "/* On hover */\n",
       "div.sk-estimator:hover .sk-estimator-doc-link:hover,\n",
       ".sk-estimator-doc-link:hover,\n",
       "div.sk-label-container:hover .sk-estimator-doc-link:hover,\n",
       ".sk-estimator-doc-link:hover {\n",
       "  /* unfitted */\n",
       "  background-color: var(--sklearn-color-unfitted-level-3);\n",
       "  color: var(--sklearn-color-background);\n",
       "  text-decoration: none;\n",
       "}\n",
       "\n",
       "div.sk-estimator.fitted:hover .sk-estimator-doc-link.fitted:hover,\n",
       ".sk-estimator-doc-link.fitted:hover,\n",
       "div.sk-label-container:hover .sk-estimator-doc-link.fitted:hover,\n",
       ".sk-estimator-doc-link.fitted:hover {\n",
       "  /* fitted */\n",
       "  background-color: var(--sklearn-color-fitted-level-3);\n",
       "  color: var(--sklearn-color-background);\n",
       "  text-decoration: none;\n",
       "}\n",
       "\n",
       "/* Span, style for the box shown on hovering the info icon */\n",
       ".sk-estimator-doc-link span {\n",
       "  display: none;\n",
       "  z-index: 9999;\n",
       "  position: relative;\n",
       "  font-weight: normal;\n",
       "  right: .2ex;\n",
       "  padding: .5ex;\n",
       "  margin: .5ex;\n",
       "  width: min-content;\n",
       "  min-width: 20ex;\n",
       "  max-width: 50ex;\n",
       "  color: var(--sklearn-color-text);\n",
       "  box-shadow: 2pt 2pt 4pt #999;\n",
       "  /* unfitted */\n",
       "  background: var(--sklearn-color-unfitted-level-0);\n",
       "  border: .5pt solid var(--sklearn-color-unfitted-level-3);\n",
       "}\n",
       "\n",
       ".sk-estimator-doc-link.fitted span {\n",
       "  /* fitted */\n",
       "  background: var(--sklearn-color-fitted-level-0);\n",
       "  border: var(--sklearn-color-fitted-level-3);\n",
       "}\n",
       "\n",
       ".sk-estimator-doc-link:hover span {\n",
       "  display: block;\n",
       "}\n",
       "\n",
       "/* \"?\"-specific style due to the `<a>` HTML tag */\n",
       "\n",
       "#sk-container-id-3 a.estimator_doc_link {\n",
       "  float: right;\n",
       "  font-size: 1rem;\n",
       "  line-height: 1em;\n",
       "  font-family: monospace;\n",
       "  background-color: var(--sklearn-color-background);\n",
       "  border-radius: 1rem;\n",
       "  height: 1rem;\n",
       "  width: 1rem;\n",
       "  text-decoration: none;\n",
       "  /* unfitted */\n",
       "  color: var(--sklearn-color-unfitted-level-1);\n",
       "  border: var(--sklearn-color-unfitted-level-1) 1pt solid;\n",
       "}\n",
       "\n",
       "#sk-container-id-3 a.estimator_doc_link.fitted {\n",
       "  /* fitted */\n",
       "  border: var(--sklearn-color-fitted-level-1) 1pt solid;\n",
       "  color: var(--sklearn-color-fitted-level-1);\n",
       "}\n",
       "\n",
       "/* On hover */\n",
       "#sk-container-id-3 a.estimator_doc_link:hover {\n",
       "  /* unfitted */\n",
       "  background-color: var(--sklearn-color-unfitted-level-3);\n",
       "  color: var(--sklearn-color-background);\n",
       "  text-decoration: none;\n",
       "}\n",
       "\n",
       "#sk-container-id-3 a.estimator_doc_link.fitted:hover {\n",
       "  /* fitted */\n",
       "  background-color: var(--sklearn-color-fitted-level-3);\n",
       "}\n",
       "</style><div id=\"sk-container-id-3\" class=\"sk-top-container\"><div class=\"sk-text-repr-fallback\"><pre>XGBRegressor(base_score=None, booster=None, callbacks=None,\n",
       "             colsample_bylevel=None, colsample_bynode=None,\n",
       "             colsample_bytree=1.0, device=None, early_stopping_rounds=None,\n",
       "             enable_categorical=False, eval_metric=None, feature_types=None,\n",
       "             gamma=None, grow_policy=None, importance_type=None,\n",
       "             interaction_constraints=None, learning_rate=0.05, max_bin=None,\n",
       "             max_cat_threshold=None, max_cat_to_onehot=None,\n",
       "             max_delta_step=None, max_depth=6, max_leaves=None,\n",
       "             min_child_weight=None, missing=nan, monotone_constraints=None,\n",
       "             multi_strategy=None, n_estimators=50, n_jobs=None,\n",
       "             num_parallel_tree=None, random_state=None, ...)</pre><b>In a Jupyter environment, please rerun this cell to show the HTML representation or trust the notebook. <br />On GitHub, the HTML representation is unable to render, please try loading this page with nbviewer.org.</b></div><div class=\"sk-container\" hidden><div class=\"sk-item\"><div class=\"sk-estimator fitted sk-toggleable\"><input class=\"sk-toggleable__control sk-hidden--visually\" id=\"sk-estimator-id-3\" type=\"checkbox\" checked><label for=\"sk-estimator-id-3\" class=\"sk-toggleable__label fitted sk-toggleable__label-arrow fitted\">&nbsp;XGBRegressor<span class=\"sk-estimator-doc-link fitted\">i<span>Fitted</span></span></label><div class=\"sk-toggleable__content fitted\"><pre>XGBRegressor(base_score=None, booster=None, callbacks=None,\n",
       "             colsample_bylevel=None, colsample_bynode=None,\n",
       "             colsample_bytree=1.0, device=None, early_stopping_rounds=None,\n",
       "             enable_categorical=False, eval_metric=None, feature_types=None,\n",
       "             gamma=None, grow_policy=None, importance_type=None,\n",
       "             interaction_constraints=None, learning_rate=0.05, max_bin=None,\n",
       "             max_cat_threshold=None, max_cat_to_onehot=None,\n",
       "             max_delta_step=None, max_depth=6, max_leaves=None,\n",
       "             min_child_weight=None, missing=nan, monotone_constraints=None,\n",
       "             multi_strategy=None, n_estimators=50, n_jobs=None,\n",
       "             num_parallel_tree=None, random_state=None, ...)</pre></div> </div></div></div></div>"
      ],
      "text/plain": [
       "XGBRegressor(base_score=None, booster=None, callbacks=None,\n",
       "             colsample_bylevel=None, colsample_bynode=None,\n",
       "             colsample_bytree=1.0, device=None, early_stopping_rounds=None,\n",
       "             enable_categorical=False, eval_metric=None, feature_types=None,\n",
       "             gamma=None, grow_policy=None, importance_type=None,\n",
       "             interaction_constraints=None, learning_rate=0.05, max_bin=None,\n",
       "             max_cat_threshold=None, max_cat_to_onehot=None,\n",
       "             max_delta_step=None, max_depth=6, max_leaves=None,\n",
       "             min_child_weight=None, missing=nan, monotone_constraints=None,\n",
       "             multi_strategy=None, n_estimators=50, n_jobs=None,\n",
       "             num_parallel_tree=None, random_state=None, ...)"
      ]
     },
     "execution_count": 39,
     "metadata": {},
     "output_type": "execute_result"
    }
   ],
   "source": [
    "# Train XGBoost regression model to predict EPA based on tuned paramters\n",
    "\n",
    "best_params = random_search.best_params_\n",
    "\n",
    "model_epa = xgb.XGBRegressor(objective=\"reg:squarederror\", **best_params)\n",
    "\n",
    "model_epa.fit(X_train, y_train)\n"
   ]
  },
  {
   "cell_type": "markdown",
   "id": "6d963a59-7330-42ef-aebb-0d0b4fe6eab3",
   "metadata": {},
   "source": [
    "## Model Evaluation"
   ]
  },
  {
   "cell_type": "code",
   "execution_count": 40,
   "id": "dbb8372f-7b34-44f1-8c89-afdb1beeead5",
   "metadata": {},
   "outputs": [],
   "source": [
    "# Make predictions based on testing data\n",
    "\n",
    "y_pred = model_epa.predict(X_test)\n"
   ]
  },
  {
   "cell_type": "code",
   "execution_count": 41,
   "id": "ddf83296-1f0b-4fd4-a764-d9feca9e82c0",
   "metadata": {},
   "outputs": [
    {
     "name": "stdout",
     "output_type": "stream",
     "text": [
      "Mean Absolute Error (MAE): 0.7896533645212676\n",
      "Mean Squared Error (MSE): 1.486128868613122\n",
      "Root Mean Squared Error (RMSE): 1.219068853105977\n",
      "R-squared (R²): 0.19953396363425824\n"
     ]
    }
   ],
   "source": [
    "# Calculate MAE (Mean Absolute Error)\n",
    "mae = mean_absolute_error(y_test, y_pred)\n",
    "\n",
    "# Calculate MSE (Mean Squared Error)\n",
    "mse = mean_squared_error(y_test, y_pred)\n",
    "\n",
    "# Calculate RMSE (Root Mean Squared Error)\n",
    "rmse = math.sqrt(mse)\n",
    "\n",
    "# Calculate R-squared\n",
    "r2 = r2_score(y_test, y_pred)\n",
    "\n",
    "# Display the evaluation metrics\n",
    "print(f\"Mean Absolute Error (MAE): {mae}\")\n",
    "print(f\"Mean Squared Error (MSE): {mse}\")\n",
    "print(f\"Root Mean Squared Error (RMSE): {rmse}\")\n",
    "print(f\"R-squared (R²): {r2}\")"
   ]
  },
  {
   "cell_type": "code",
   "execution_count": 42,
   "id": "e9f037e9-aedb-466f-9f51-e663790b86f9",
   "metadata": {},
   "outputs": [
    {
     "data": {
      "image/png": "[encoded data removed]",
      "text/plain": [
       "<Figure size 800x600 with 1 Axes>"
      ]
     },
     "metadata": {},
     "output_type": "display_data"
    }
   ],
   "source": [
    "# Visualize Model\n",
    "# Plot true vs predicted EPA values\n",
    "plt.figure(figsize=(8, 6))\n",
    "plt.scatter(y_test, y_pred, alpha=0.6, color='blue')\n",
    "plt.plot([y_test.min(), y_test.max()], [y_test.min(), y_test.max()], color='red', linestyle='--')  # Line of perfect prediction\n",
    "plt.title('True vs Predicted EPA')\n",
    "plt.xlabel('True EPA')\n",
    "plt.ylabel('Predicted EPA')\n",
    "plt.show()"
   ]
  },
  {
   "cell_type": "code",
   "execution_count": 43,
   "id": "5acc79d2-4296-4da0-b51e-c40198ad91cd",
   "metadata": {},
   "outputs": [
    {
     "data": {
      "image/png": "[encoded data removed]",
      "text/plain": [
       "<Figure size 640x480 with 1 Axes>"
      ]
     },
     "metadata": {},
     "output_type": "display_data"
    }
   ],
   "source": [
    "# Plot feature importances\n",
    "xgb.plot_importance(model_epa, importance_type='weight', max_num_features=10)\n",
    "plt.title('Feature Importance')\n",
    "plt.show()"
   ]
  },
  {
   "cell_type": "markdown",
   "id": "ff3197dd-f529-4fee-bbcf-026b06117c21",
   "metadata": {},
   "source": [
    "## Prediction Test"
   ]
  },
  {
   "cell_type": "code",
   "execution_count": 44,
   "id": "d0f80c5f-39f3-45be-9b3a-59ca3f04cb82",
   "metadata": {},
   "outputs": [
    {
     "name": "stdout",
     "output_type": "stream",
     "text": [
      "['COVER_3' 'COVER_4' 'COVER_1' 'COVER_0' 'COVER_6' 'COVER_2' '2_MAN'\n",
      " 'PREVENT']\n"
     ]
    }
   ],
   "source": [
    "# Get coverages\n",
    "coverages = data[x]['defense_coverage_type'].unique()\n",
    "print(coverages)"
   ]
  },
  {
   "cell_type": "code",
   "execution_count": 45,
   "id": "43872121-bef7-4667-bdf3-a20f65fd9d9f",
   "metadata": {},
   "outputs": [],
   "source": [
    "# encode test features\n",
    "\n",
    "predict_route = le_route.transform(['OUT'])[0]\n",
    "predict_pressure = le_pressure.transform([False])[0]\n",
    "predict_length = le_length.transform(['short'])[0]\n",
    "predict_location = le_location.transform(['left'])[0]\n"
   ]
  },
  {
   "cell_type": "code",
   "execution_count": 114,
   "id": "70bc42f5-3f19-4d1d-8fc0-9e6e5e34ac0b",
   "metadata": {},
   "outputs": [
    {
     "name": "stderr",
     "output_type": "stream",
     "text": [
      "/opt/homebrew/anaconda3/lib/python3.12/site-packages/sklearn/preprocessing/_label.py:132: DataConversionWarning: A column-vector y was passed when a 1d array was expected. Please change the shape of y to (n_samples, ), for example using ravel().\n",
      "  y = column_or_1d(y, dtype=self.classes_.dtype, warn=True)\n",
      "/opt/homebrew/anaconda3/lib/python3.12/site-packages/sklearn/preprocessing/_label.py:132: DataConversionWarning: A column-vector y was passed when a 1d array was expected. Please change the shape of y to (n_samples, ), for example using ravel().\n",
      "  y = column_or_1d(y, dtype=self.classes_.dtype, warn=True)\n",
      "/opt/homebrew/anaconda3/lib/python3.12/site-packages/sklearn/preprocessing/_label.py:132: DataConversionWarning: A column-vector y was passed when a 1d array was expected. Please change the shape of y to (n_samples, ), for example using ravel().\n",
      "  y = column_or_1d(y, dtype=self.classes_.dtype, warn=True)\n",
      "/opt/homebrew/anaconda3/lib/python3.12/site-packages/sklearn/preprocessing/_label.py:132: DataConversionWarning: A column-vector y was passed when a 1d array was expected. Please change the shape of y to (n_samples, ), for example using ravel().\n",
      "  y = column_or_1d(y, dtype=self.classes_.dtype, warn=True)\n",
      "/opt/homebrew/anaconda3/lib/python3.12/site-packages/sklearn/preprocessing/_label.py:132: DataConversionWarning: A column-vector y was passed when a 1d array was expected. Please change the shape of y to (n_samples, ), for example using ravel().\n",
      "  y = column_or_1d(y, dtype=self.classes_.dtype, warn=True)\n",
      "/opt/homebrew/anaconda3/lib/python3.12/site-packages/sklearn/preprocessing/_label.py:132: DataConversionWarning: A column-vector y was passed when a 1d array was expected. Please change the shape of y to (n_samples, ), for example using ravel().\n",
      "  y = column_or_1d(y, dtype=self.classes_.dtype, warn=True)\n",
      "/opt/homebrew/anaconda3/lib/python3.12/site-packages/sklearn/preprocessing/_label.py:132: DataConversionWarning: A column-vector y was passed when a 1d array was expected. Please change the shape of y to (n_samples, ), for example using ravel().\n",
      "  y = column_or_1d(y, dtype=self.classes_.dtype, warn=True)\n",
      "/opt/homebrew/anaconda3/lib/python3.12/site-packages/sklearn/preprocessing/_label.py:132: DataConversionWarning: A column-vector y was passed when a 1d array was expected. Please change the shape of y to (n_samples, ), for example using ravel().\n",
      "  y = column_or_1d(y, dtype=self.classes_.dtype, warn=True)\n"
     ]
    }
   ],
   "source": [
    "# Create dataframe to predict on\n",
    "\n",
    "#X = df[['yardline_100', 'quarter_seconds_remaining', 'ydstogo', 'no_huddle', 'pass_length', 'pass_location', 'air_yards', 'out_of_bounds',\n",
    "#        'defenders_in_box', 'number_of_pass_rushers', 'time_to_throw', 'was_pressure', 'route', 'defense_coverage_type']]\n",
    "\n",
    "predict_data = pd.DataFrame()\n",
    "\n",
    "for x in coverages:\n",
    "    new_row = {\n",
    "        'yardline_100' : 75,\n",
    "        'quarter_seconds_remaining': 120,\n",
    "        'down': 1,\n",
    "        'ydstogo': 10,\n",
    "        'no_huddle': 0,\n",
    "        'length_encoded': predict_length,\n",
    "        'location_encoded': predict_location,\n",
    "        'out_of_bounds': 1,\n",
    "        'posteam_timeouts_remaining': 3,\n",
    "        'defenders_in_box': 7,\n",
    "        'number_of_pass_rushers': 4,\n",
    "        'time_to_throw': 2.1,\n",
    "        'pressure_encoded': False,\n",
    "        'route_encoded': predict_route,\n",
    "        'coverage_encoded': le_coverage.transform([[x]]),\n",
    "        'score_differential_post': -3\n",
    "    }\n",
    "    new_data = pd.DataFrame(new_row, index = [0])\n",
    "    predict_data = pd.concat([predict_data, new_data])\n",
    "\n",
    "    "
   ]
  },
  {
   "cell_type": "code",
   "execution_count": 116,
   "id": "e17c90d1-6be7-4deb-98e7-d9f63f5fa458",
   "metadata": {},
   "outputs": [
    {
     "name": "stdout",
     "output_type": "stream",
     "text": [
      "  coverage_type  predicted_EPA\n",
      "0       COVER_3       0.130723\n",
      "0       COVER_4       0.130723\n",
      "0       COVER_2       0.130723\n",
      "0       COVER_6       0.143366\n",
      "0       PREVENT       0.143366\n",
      "0       COVER_1       0.145682\n",
      "0       COVER_0       0.164943\n",
      "0         2_MAN       0.164943\n"
     ]
    }
   ],
   "source": [
    "# Create predictions\n",
    "predicted_epa = model_epa.predict(predict_data)\n",
    "\n",
    "# Add the predictions to the DataFrame\n",
    "predict_data['coverage_type'] = le_coverage.inverse_transform(predict_data['coverage_encoded'])\n",
    "predict_data['predicted_EPA'] = predicted_epa\n",
    "\n",
    "# Print results\n",
    "print(predict_data[['coverage_type', 'predicted_EPA']].sort_values(by=['predicted_EPA']))"
   ]
  },
  {
   "cell_type": "markdown",
   "id": "7b503fe1-2a03-4193-9c4f-cdc05b3ff8d2",
   "metadata": {},
   "source": [
    "## Additional EDA"
   ]
  },
  {
   "cell_type": "code",
   "execution_count": 50,
   "id": "928f6931-3d47-4efc-8c60-ee6a6ed6983a",
   "metadata": {},
   "outputs": [
    {
     "name": "stdout",
     "output_type": "stream",
     "text": [
      "               epa\n",
      "count  5030.000000\n",
      "mean      0.086218\n",
      "std       1.372957\n",
      "min      -9.652063\n",
      "25%      -0.412045\n",
      "50%      -0.066156\n",
      "75%       0.645309\n",
      "max       7.148208\n"
     ]
    }
   ],
   "source": [
    "print(y.describe())\n",
    "\n",
    "# Mean is 0.0862, median is -0.0662, the distance between them is around 0.746, or about 0.54 STDs.\n",
    "# This suggests data is right skewed and we could find a better way to normalize it. Moreover STD is quite high.\n",
    "# Despite this, I don't think there's enough outliers severely impact data. \n",
    "# Additionally, xgboost is a tree-based model, so in theory the effects of outliers should be mitigated."
   ]
  },
  {
   "cell_type": "code",
   "execution_count": 53,
   "id": "6001a7ee-4ca6-4996-af6e-9aad4683f2ea",
   "metadata": {},
   "outputs": [
    {
     "data": {
      "image/png": "[encoded data removed]",
      "text/plain": [
       "<Figure size 500x300 with 1 Axes>"
      ]
     },
     "metadata": {},
     "output_type": "display_data"
    }
   ],
   "source": [
    "plt.figure(figsize=(5, 3))\n",
    "plt.hist(y, bins=50, color='skyblue', edgecolor='black')\n",
    "plt.title('Distribution of EPA')\n",
    "plt.xlabel('EPA')\n",
    "plt.ylabel('Frequency')\n",
    "plt.show()"
   ]
  },
  {
   "cell_type": "code",
   "execution_count": 111,
   "id": "96743fed-d870-4439-a1b3-809da47fc09a",
   "metadata": {},
   "outputs": [
    {
     "name": "stdout",
     "output_type": "stream",
     "text": [
      "Number of extreme outliers: 152\n"
     ]
    }
   ],
   "source": [
    "Q1 = df['epa'].quantile(0.25)\n",
    "Q3 = df['epa'].quantile(0.75)\n",
    "IQR = Q3 - Q1\n",
    "\n",
    "lower_bound = Q1 - 3 * IQR\n",
    "upper_bound = Q3 + 3 * IQR\n",
    "\n",
    "outliers = df[(df['epa'] < lower_bound) | (df['epa'] > upper_bound)]\n",
    "print(f\"Number of extreme outliers: {len(outliers)}\")"
   ]
  },
  {
   "cell_type": "code",
   "execution_count": 118,
   "id": "c470bf8b-e881-4f65-abe1-be15b683436a",
   "metadata": {},
   "outputs": [
    {
     "name": "stdout",
     "output_type": "stream",
     "text": [
      "defense_coverage_type\n",
      "COVER_3    1136\n",
      "COVER_1    1002\n",
      "COVER_2     919\n",
      "COVER_4     771\n",
      "COVER_6     459\n",
      "COVER_0     293\n",
      "2_MAN       277\n",
      "PREVENT     173\n",
      "Name: count, dtype: int64\n"
     ]
    }
   ],
   "source": [
    "print(df['defense_coverage_type'].value_counts())"
   ]
  },
  {
   "cell_type": "markdown",
   "id": "3306bb29-726c-4c90-b8dc-e427fa3a7de5",
   "metadata": {},
   "source": [
    "## Analysis\n",
    "\n",
    "$MSE$ is quite high in this context, as it is suggesting the model is off by around 1.478 EPA (even after tuning the model). $R^2$ is also considerably low at poistive 0.19.\n",
    "\n",
    "While the data for EPA is moderately right-skewed, I don't think that would have substantially impacted the model performance, as xgboost is a tree-based model that mitigates the effects of outliers. Furthermore, the sample size of 5030 plays and the histogram of the EPA distribution suggests that it is generally normal. Still, there are about 152 extreme outliers (i.e. $Q_{1, 3} \\pm 3 \\times IQR$) out of 5030, which is approximately 3% of the data and may be considered a non-trivial amount.\n",
    "\n",
    "In general, it seems `COVER 3` generally minimizes EPA and is the most frequent coverage type in these situations.\n",
    "\n",
    "### Possible Improvements\n",
    "- Find other regression models that would fit better\n",
    "  - And see how much outliers are affecting mean errors\n",
    "- Add more features that better account for playstyle (e.g. QB cluster, team as a feature)\n",
    "- Add features that account for quality of offense and defense\n",
    "- Create a tree based on previous plays to get tendencies of offense throughout game\n",
    "- Account for run\n",
    "- Find way to generalize inputs (e.g. instead of specific yrdstogo, be able to input range of yrdstogo)\n",
    "- Add features such as down and score_differential"
   ]
  }
 ],
 "metadata": {
  "kernelspec": {
   "display_name": "Python 3 (ipykernel)",
   "language": "python",
   "name": "python3"
  },
  "language_info": {
   "codemirror_mode": {
    "name": "ipython",
    "version": 3
   },
   "file_extension": ".py",
   "mimetype": "text/x-python",
   "name": "python",
   "nbconvert_exporter": "python",
   "pygments_lexer": "ipython3",
   "version": "3.12.4"
  }
 },
 "nbformat": 4,
 "nbformat_minor": 5
}

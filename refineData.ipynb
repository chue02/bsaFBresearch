{
 "cells": [
  {
   "cell_type": "code",
   "execution_count": 1,
   "id": "43be1233-cd39-4672-8057-310a5bed5cd6",
   "metadata": {},
   "outputs": [],
   "source": [
    "import math\n",
    "import pandas as pd\n",
    "import os"
   ]
  },
  {
   "cell_type": "code",
   "execution_count": 2,
   "id": "06c42ea6-72b6-4426-aaf9-b7c54915def2",
   "metadata": {},
   "outputs": [],
   "source": [
    "# Configurations\n",
    "pd.set_option('display.max_columns', None)"
   ]
  },
  {
   "cell_type": "code",
   "execution_count": 3,
   "id": "ac06ac70-b7f9-4f0d-baa1-c5452d844fd1",
   "metadata": {},
   "outputs": [],
   "source": [
    "# Initialize dictionaries of dataframes\n",
    "\n",
    "data = {}\n",
    "\n",
    "years = [18, 19, 20, 21, 22, 23]"
   ]
  },
  {
   "cell_type": "code",
   "execution_count": 4,
   "id": "3fa1e41b-b4cf-4cb5-bd72-e124bb634b06",
   "metadata": {},
   "outputs": [
    {
     "name": "stdout",
     "output_type": "stream",
     "text": [
      "done\n"
     ]
    },
    {
     "name": "stderr",
     "output_type": "stream",
     "text": [
      "/var/folders/z2/rm0rvjws51g2b4p7_0ns_31w0000gp/T/ipykernel_71709/515407770.py:5: DtypeWarning: Columns (29,30) have mixed types. Specify dtype option on import or set low_memory=False.\n",
      "  data[x] = pd.read_csv('cleanData/merged/pbp_merged_20' + str(x) + '.csv')\n"
     ]
    }
   ],
   "source": [
    "# Load CSVs per year of \n",
    "\n",
    "# NOTE: You can comment out a line if you already have the data and don't want to import it\n",
    "for x in years:\n",
    "    data[x] = pd.read_csv('cleanData/merged/pbp_merged_20' + str(x) + '.csv')\n",
    "# print(pbp[18].head())\n",
    "\n",
    "# print(NGS_pbp[18].head())\n",
    "\n",
    "print(\"done\")\n"
   ]
  },
  {
   "cell_type": "code",
   "execution_count": 5,
   "id": "e60c8bb3-c467-4f32-98c1-fdd14dc96301",
   "metadata": {},
   "outputs": [
    {
     "name": "stdout",
     "output_type": "stream",
     "text": [
      "done\n"
     ]
    }
   ],
   "source": [
    "# Drop uncommon personnel packages (i.e. less than 50 plays were run with this package\n",
    "min_frequency = 50\n",
    "\n",
    "for x in years:\n",
    "    temp = data[x]\n",
    "    count = temp['offense_personnel'].value_counts()\n",
    "    data[x] = temp[temp['offense_personnel'].isin(count[count >= min_frequency].index)]\n",
    "\n",
    "print(\"done\")"
   ]
  },
  {
   "cell_type": "code",
   "execution_count": 6,
   "id": "cd2bed08-ea12-4f66-aaea-04c1876016c6",
   "metadata": {},
   "outputs": [
    {
     "name": "stdout",
     "output_type": "stream",
     "text": [
      "done\n"
     ]
    }
   ],
   "source": [
    "# Drop any personnel packages with 2 QBs\n",
    "\n",
    "for x in years:\n",
    "    temp = data[x]\n",
    "    data[x] = temp[~temp['offense_personnel'].str.contains(\"2 QB\", na = False)]\n",
    "\n",
    "print(\"done\")"
   ]
  },
  {
   "cell_type": "code",
   "execution_count": 7,
   "id": "c03e8655-885e-45c5-83ad-d4e26f52e55f",
   "metadata": {},
   "outputs": [
    {
     "name": "stdout",
     "output_type": "stream",
     "text": [
      "offense_personnel\n",
      "1 RB, 1 TE, 3 WR          3949\n",
      "1 RB, 2 TE, 2 WR           434\n",
      "2 RB, 1 TE, 2 WR           164\n",
      "1 RB, 0 TE, 4 WR            87\n",
      "1 RB, 3 TE, 1 WR            60\n",
      "0 RB, 1 TE, 4 WR            34\n",
      "2 RB, 2 TE, 1 WR            34\n",
      "2 RB, 0 TE, 3 WR            30\n",
      "6 OL, 1 RB, 1 TE, 2 WR      18\n",
      "Name: count, dtype: int64\n",
      "offense_personnel\n",
      "1 RB, 1 TE, 3 WR          3700\n",
      "1 RB, 2 TE, 2 WR           583\n",
      "1 RB, 0 TE, 4 WR           156\n",
      "2 RB, 1 TE, 2 WR           149\n",
      "1 RB, 3 TE, 1 WR            51\n",
      "2 RB, 2 TE, 1 WR            43\n",
      "2 RB, 0 TE, 3 WR            42\n",
      "6 OL, 1 RB, 1 TE, 2 WR      20\n",
      "0 RB, 2 TE, 3 WR            20\n",
      "0 RB, 1 TE, 4 WR            15\n",
      "6 OL, 1 RB, 2 TE, 1 WR      10\n",
      "Name: count, dtype: int64\n",
      "offense_personnel\n",
      "1 RB, 1 TE, 3 WR          3695\n",
      "1 RB, 2 TE, 2 WR           567\n",
      "2 RB, 1 TE, 2 WR           180\n",
      "1 RB, 0 TE, 4 WR           121\n",
      "1 RB, 3 TE, 1 WR            70\n",
      "0 RB, 1 TE, 4 WR            68\n",
      "0 RB, 2 TE, 3 WR            57\n",
      "2 RB, 2 TE, 1 WR            54\n",
      "2 RB, 0 TE, 3 WR            23\n",
      "6 OL, 1 RB, 1 TE, 2 WR      15\n",
      "6 OL, 1 RB, 2 TE, 1 WR      13\n",
      "Name: count, dtype: int64\n",
      "offense_personnel\n",
      "1 RB, 1 TE, 3 WR          3878\n",
      "1 RB, 2 TE, 2 WR           592\n",
      "2 RB, 1 TE, 2 WR           159\n",
      "1 RB, 0 TE, 4 WR           106\n",
      "1 RB, 3 TE, 1 WR            71\n",
      "0 RB, 1 TE, 4 WR            67\n",
      "2 RB, 2 TE, 1 WR            42\n",
      "2 RB, 0 TE, 3 WR            33\n",
      "6 OL, 1 RB, 1 TE, 2 WR      16\n",
      "0 RB, 2 TE, 3 WR            16\n",
      "6 OL, 1 RB, 2 TE, 1 WR      12\n",
      "Name: count, dtype: int64\n",
      "offense_personnel\n",
      "1 RB, 1 TE, 3 WR          4042\n",
      "1 RB, 2 TE, 2 WR           515\n",
      "2 RB, 1 TE, 2 WR           172\n",
      "1 RB, 3 TE, 1 WR            79\n",
      "2 RB, 2 TE, 1 WR            58\n",
      "1 RB, 0 TE, 4 WR            35\n",
      "6 OL, 1 RB, 2 TE, 1 WR      15\n",
      "0 RB, 2 TE, 3 WR            15\n",
      "6 OL, 1 RB, 1 TE, 2 WR      14\n",
      "0 RB, 1 TE, 4 WR            14\n",
      "2 RB, 0 TE, 3 WR            10\n",
      "Name: count, dtype: int64\n",
      "offense_personnel\n",
      "1 RB, 1 TE, 3 WR          3468\n",
      "1 RB, 2 TE, 2 WR           502\n",
      "2 RB, 1 TE, 2 WR           127\n",
      "1 RB, 3 TE, 1 WR            62\n",
      "1 RB, 0 TE, 4 WR            27\n",
      "0 RB, 1 TE, 4 WR            23\n",
      "2 RB, 2 TE, 1 WR            19\n",
      "0 RB, 2 TE, 3 WR            12\n",
      "2 RB, 0 TE, 3 WR            11\n",
      "6 OL, 1 RB, 1 TE, 2 WR       7\n",
      "Name: count, dtype: int64\n"
     ]
    }
   ],
   "source": [
    "# See remaining personnel counts\n",
    "\n",
    "for x in years:\n",
    "    temp = data[x]\n",
    "    temp = temp[temp['qtr'] == 4] \n",
    "    count = temp['offense_personnel'].value_counts()\n",
    "    print(count)"
   ]
  },
  {
   "cell_type": "code",
   "execution_count": 8,
   "id": "6f48cc97-66e9-4dcf-a3f7-6a1b46877203",
   "metadata": {},
   "outputs": [
    {
     "name": "stdout",
     "output_type": "stream",
     "text": [
      "done\n"
     ]
    }
   ],
   "source": [
    "# Drop uncommon formations (i.e. jumbo and wildcat)\n",
    "\n",
    "for x in years:\n",
    "    temp = data[x]\n",
    "    data[x] = temp[~temp['offense_formation'].isin(['JUMBO', 'WILDCAT'])]\n",
    "\n",
    "print(\"done\")"
   ]
  },
  {
   "cell_type": "code",
   "execution_count": 9,
   "id": "ef119dbf-099b-4bfb-8313-8ed0c79e7b06",
   "metadata": {
    "scrolled": true
   },
   "outputs": [
    {
     "name": "stdout",
     "output_type": "stream",
     "text": [
      "offense_formation\n",
      "SHOTGUN       11752\n",
      "SINGLEBACK     2497\n",
      "EMPTY          2212\n",
      "I_FORM          802\n",
      "PISTOL          159\n",
      "Name: count, dtype: int64\n",
      "offense_formation\n",
      "SHOTGUN       11550\n",
      "SINGLEBACK     2524\n",
      "EMPTY          2288\n",
      "I_FORM          721\n",
      "PISTOL          340\n",
      "Name: count, dtype: int64\n",
      "offense_formation\n",
      "SHOTGUN       11764\n",
      "EMPTY          2601\n",
      "SINGLEBACK     2479\n",
      "I_FORM          651\n",
      "PISTOL          349\n",
      "Name: count, dtype: int64\n",
      "offense_formation\n",
      "SHOTGUN       12356\n",
      "EMPTY          2787\n",
      "SINGLEBACK     2544\n",
      "I_FORM          536\n",
      "PISTOL          365\n",
      "Name: count, dtype: int64\n",
      "offense_formation\n",
      "SHOTGUN       12292\n",
      "EMPTY          2381\n",
      "SINGLEBACK     2362\n",
      "I_FORM          478\n",
      "PISTOL          469\n",
      "Name: count, dtype: int64\n",
      "offense_formation\n",
      "SHOTGUN       11138\n",
      "EMPTY          1982\n",
      "SINGLEBACK     1682\n",
      "PISTOL          566\n",
      "I_FORM          319\n",
      "Name: count, dtype: int64\n"
     ]
    }
   ],
   "source": [
    "# See formations\n",
    "# See remaining personnel counts\n",
    "\n",
    "for x in years:\n",
    "    temp = data[x]\n",
    "    count = temp['offense_formation'].value_counts()\n",
    "    print(count)"
   ]
  },
  {
   "cell_type": "code",
   "execution_count": 10,
   "id": "255df1ea-e9f7-4ae3-938d-3321e74fc191",
   "metadata": {},
   "outputs": [
    {
     "name": "stdout",
     "output_type": "stream",
     "text": [
      "Export successful\n"
     ]
    }
   ],
   "source": [
    "# Export merged data to CSVs\n",
    "for x in years:\n",
    "    data[x].to_csv('cleanData/refined/pbp_refined_20' + str(x) + '.csv')\n",
    "\n",
    "print(\"Export successful\")"
   ]
  },
  {
   "cell_type": "code",
   "execution_count": 11,
   "id": "cc73426b-10dd-4fa1-8c6d-ab557cef6871",
   "metadata": {},
   "outputs": [
    {
     "name": "stdout",
     "output_type": "stream",
     "text": [
      "Index(['Unnamed: 0', 'Unnamed: 0_pbp', 'play_id', 'game_id', 'old_game_id',\n",
      "       'home_team', 'away_team', 'season_type', 'week', 'posteam',\n",
      "       'posteam_type', 'defteam', 'side_of_field', 'yardline_100', 'game_date',\n",
      "       'quarter_seconds_remaining', 'game_seconds_remaining', 'qtr', 'down',\n",
      "       'time', 'ydstogo', 'play_type', 'yards_gained', 'no_huddle',\n",
      "       'qb_scramble', 'pass_length', 'pass_location', 'air_yards',\n",
      "       'yards_after_catch', 'run_location', 'run_gap',\n",
      "       'posteam_timeouts_remaining', 'total_home_score', 'total_away_score',\n",
      "       'posteam_score', 'defteam_score', 'score_differential',\n",
      "       'score_differential_post', 'no_score_prob', 'ep', 'epa', 'wp', 'def_wp',\n",
      "       'home_wp', 'away_wp', 'wpa', 'season', 'play_type_nfl', 'out_of_bounds',\n",
      "       'Unnamed: 0_pbp_part', 'nflverse_game_id', 'possession_team',\n",
      "       'offense_formation', 'offense_personnel', 'defenders_in_box',\n",
      "       'defense_personnel', 'number_of_pass_rushers', 'ngs_air_yards',\n",
      "       'time_to_throw', 'was_pressure', 'route', 'defense_man_zone_type',\n",
      "       'defense_coverage_type'],\n",
      "      dtype='object')\n"
     ]
    }
   ],
   "source": [
    "print(data[x].columns)"
   ]
  },
  {
   "cell_type": "code",
   "execution_count": null,
   "id": "1a4bc308-6991-4143-8308-07aa23568bfc",
   "metadata": {},
   "outputs": [],
   "source": []
  }
 ],
 "metadata": {
  "kernelspec": {
   "display_name": "Python 3 (ipykernel)",
   "language": "python",
   "name": "python3"
  },
  "language_info": {
   "codemirror_mode": {
    "name": "ipython",
    "version": 3
   },
   "file_extension": ".py",
   "mimetype": "text/x-python",
   "name": "python",
   "nbconvert_exporter": "python",
   "pygments_lexer": "ipython3",
   "version": "3.12.4"
  }
 },
 "nbformat": 4,
 "nbformat_minor": 5
}

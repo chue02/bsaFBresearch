{
 "cells": [
  {
   "cell_type": "code",
   "execution_count": 2,
   "id": "d6b161cd-d7ab-4fe9-a798-9f14e4fcc22d",
   "metadata": {},
   "outputs": [],
   "source": [
    "import math\n",
    "import pandas as pd\n",
    "import os"
   ]
  },
  {
   "cell_type": "code",
   "execution_count": 3,
   "id": "b9c8f24a-a76a-46d3-9bfd-791428155d7d",
   "metadata": {},
   "outputs": [],
   "source": [
    "# Configurations\n",
    "pd.set_option('display.max_columns', None)"
   ]
  },
  {
   "cell_type": "code",
   "execution_count": 4,
   "id": "af820d2e-2fbf-4851-b8e9-0e22f5c384b9",
   "metadata": {},
   "outputs": [],
   "source": [
    "# Initialize dictionaries of dataframes\n",
    "\n",
    "pbp = {}\n",
    "NGS_pbp = {}\n",
    "years = [18, 19, 20, 21, 22, 23]\n"
   ]
  },
  {
   "cell_type": "code",
   "execution_count": 90,
   "id": "aa28430f-d292-46c0-9e62-e17e700bb515",
   "metadata": {},
   "outputs": [
    {
     "name": "stderr",
     "output_type": "stream",
     "text": [
      "/var/folders/z2/rm0rvjws51g2b4p7_0ns_31w0000gp/T/ipykernel_29834/4289767710.py:5: DtypeWarning: Columns (40,41,44,45,49,50,51,52,179,180,182,183,187,188,191,192,193,194,195,196,197,198,199,200,203,204,205,206,207,208,211,212,213,214,215,216,217,218,219,220,222,224,226,227,228,229,230,231,232,240,241,242,246,247,248,249,250,251,252,253,254,255,256,258,259,260,262,263,264,265,266,267,268,269,270,272,273,274,277,278,283,284) have mixed types. Specify dtype option on import or set low_memory=False.\n",
      "  pbp[x] = pd.read_csv('data/raw/pbp/play_by_play_20' + str(x) + '.csv')\n",
      "/var/folders/z2/rm0rvjws51g2b4p7_0ns_31w0000gp/T/ipykernel_29834/4289767710.py:5: DtypeWarning: Columns (45,179,180,182,183,189,190,193,194,197,198,203,204,205,206,209,210,218,219,220,233,234,235,236,237,238,248,249,253,254,255,260,262,263,283,284) have mixed types. Specify dtype option on import or set low_memory=False.\n",
      "  pbp[x] = pd.read_csv('data/raw/pbp/play_by_play_20' + str(x) + '.csv')\n",
      "/var/folders/z2/rm0rvjws51g2b4p7_0ns_31w0000gp/T/ipykernel_29834/4289767710.py:5: DtypeWarning: Columns (179,180,182,183,189,190,193,194,197,198,203,204,205,206,213,214,218,219,220,222,224,226,248,249,253,254,255,260,262,263,266,267,268,269,283,284) have mixed types. Specify dtype option on import or set low_memory=False.\n",
      "  pbp[x] = pd.read_csv('data/raw/pbp/play_by_play_20' + str(x) + '.csv')\n",
      "/var/folders/z2/rm0rvjws51g2b4p7_0ns_31w0000gp/T/ipykernel_29834/4289767710.py:5: DtypeWarning: Columns (179,180,182,183,189,190,193,194,197,198,203,204,205,206,218,219,220,233,234,235,236,237,238,253,254,255,260,262,263,283,284) have mixed types. Specify dtype option on import or set low_memory=False.\n",
      "  pbp[x] = pd.read_csv('data/raw/pbp/play_by_play_20' + str(x) + '.csv')\n",
      "/var/folders/z2/rm0rvjws51g2b4p7_0ns_31w0000gp/T/ipykernel_29834/4289767710.py:5: DtypeWarning: Columns (45,179,180,182,183,187,188,189,190,193,194,197,198,203,204,205,206,213,214,218,219,220,222,224,226,243,244,245,248,249,253,254,255,260,262,263,266,267,268,269,283,284) have mixed types. Specify dtype option on import or set low_memory=False.\n",
      "  pbp[x] = pd.read_csv('data/raw/pbp/play_by_play_20' + str(x) + '.csv')\n",
      "/var/folders/z2/rm0rvjws51g2b4p7_0ns_31w0000gp/T/ipykernel_29834/4289767710.py:5: DtypeWarning: Columns (45,179,180,182,183,189,190,197,198,203,204,205,206,218,219,220,222,224,226,253,254,255,260,262,263,283,284,332) have mixed types. Specify dtype option on import or set low_memory=False.\n",
      "  pbp[x] = pd.read_csv('data/raw/pbp/play_by_play_20' + str(x) + '.csv')\n"
     ]
    },
    {
     "name": "stdout",
     "output_type": "stream",
     "text": [
      "done\n"
     ]
    }
   ],
   "source": [
    "# Load CSVs per year\n",
    "\n",
    "# NOTE: You can comment out a line if you already have the data and don't want to import it\n",
    "for x in years:\n",
    "    pbp[x] = pd.read_csv('data/raw/pbp/play_by_play_20' + str(x) + '.csv')\n",
    "   # NGS_pbp[x] =  pd.read_csv('data/raw/pbp_participation/pbp_participation_20' + str(x) + '.csv')\n",
    "\n",
    "# print(pbp[18].head())\n",
    "\n",
    "# print(NGS_pbp[18].head())\n",
    "\n",
    "print(\"done\")\n"
   ]
  },
  {
   "cell_type": "code",
   "execution_count": 77,
   "id": "dc8bddae-f1df-45fe-b0b9-5ff9f6430f11",
   "metadata": {},
   "outputs": [
    {
     "name": "stdout",
     "output_type": "stream",
     "text": [
      "In 2018 there are 47109 rows and 372 columns.\n",
      "In 2019 there are 47258 rows and 372 columns.\n",
      "In 2020 there are 47705 rows and 372 columns.\n",
      "In 2021 there are 49922 rows and 372 columns.\n",
      "In 2022 there are 49434 rows and 372 columns.\n",
      "In 2023 there are 49665 rows and 372 columns.\n"
     ]
    }
   ],
   "source": [
    "# Dimensions before cleaning\n",
    "\n",
    "for x in years:\n",
    "    print(\"In 20\" + str(x) + \" there are \" + str(len(pbp[x])) + \" rows and \"\n",
    "          + str(len(pbp[x].columns)) + \" columns.\")\n"
   ]
  },
  {
   "cell_type": "markdown",
   "id": "0bd1fb6d-0a63-498b-8eb3-1a1b0d1915d0",
   "metadata": {},
   "source": [
    "# Drop Columns\n",
    "\n",
    "Both datasets have substantially more columns we could ever need, particularly `pbp`. Most columns contain extraneous and niche information. I'm going to drop as few columns as possible since it's easier to drop than re-add, but the process of re-inserting droped columns is not very difficult.\n",
    "\n",
    "Note: we should keep `play_id` and `game_id` since they're unique values that we can use to INNER JOIN these two dataframes together into one.\n",
    "\n",
    "Also note: We may want to drop rows *then* columns, as we may want to drop niche plays (e.g. safeties, laterals, punt return TDs, turnovers, etc.) then drop their corresponding columns."
   ]
  },
  {
   "cell_type": "markdown",
   "id": "df0cbcce-ba6a-4ed3-aacf-125bdc56d663",
   "metadata": {},
   "source": [
    "### Drop Columns for pbp_participation\n",
    "\n",
    "Drop columns that contain player IDs number of players on offense/defense (it's almost always 11, who knew)."
   ]
  },
  {
   "cell_type": "code",
   "execution_count": 15,
   "id": "c8ee8783-d3cc-4443-a5b9-c3e7170e4ece",
   "metadata": {},
   "outputs": [],
   "source": [
    "# Choose columns to drop\n",
    "\n",
    "ngs_dropColumns = [\"players_on_play\", \n",
    "               \"offense_players\", \n",
    "               \"defense_players\",\n",
    "               \"n_offense\",\n",
    "               \"n_defense\"]"
   ]
  },
  {
   "cell_type": "code",
   "execution_count": 18,
   "id": "684a9766-29d1-471a-ab03-cab7bdd8c3a2",
   "metadata": {},
   "outputs": [],
   "source": [
    "# Execute column drops for each dataframe in pbp_particpation\n",
    "\n",
    "for x in years:\n",
    "    NGS_pbp[x] = NGS_pbp[x].drop(columns = ngs_dropColumns)"
   ]
  },
  {
   "cell_type": "code",
   "execution_count": 19,
   "id": "9d9453e4-98db-44ba-9eca-e2397b5a8882",
   "metadata": {},
   "outputs": [
    {
     "data": {
      "text/html": [
       "<div>\n",
       "<style scoped>\n",
       "    .dataframe tbody tr th:only-of-type {\n",
       "        vertical-align: middle;\n",
       "    }\n",
       "\n",
       "    .dataframe tbody tr th {\n",
       "        vertical-align: top;\n",
       "    }\n",
       "\n",
       "    .dataframe thead th {\n",
       "        text-align: right;\n",
       "    }\n",
       "</style>\n",
       "<table border=\"1\" class=\"dataframe\">\n",
       "  <thead>\n",
       "    <tr style=\"text-align: right;\">\n",
       "      <th></th>\n",
       "      <th>nflverse_game_id</th>\n",
       "      <th>old_game_id</th>\n",
       "      <th>play_id</th>\n",
       "      <th>possession_team</th>\n",
       "      <th>offense_formation</th>\n",
       "      <th>offense_personnel</th>\n",
       "      <th>defenders_in_box</th>\n",
       "      <th>defense_personnel</th>\n",
       "      <th>number_of_pass_rushers</th>\n",
       "      <th>ngs_air_yards</th>\n",
       "      <th>time_to_throw</th>\n",
       "      <th>was_pressure</th>\n",
       "      <th>route</th>\n",
       "      <th>defense_man_zone_type</th>\n",
       "      <th>defense_coverage_type</th>\n",
       "    </tr>\n",
       "  </thead>\n",
       "  <tbody>\n",
       "    <tr>\n",
       "      <th>0</th>\n",
       "      <td>2018_01_ATL_PHI</td>\n",
       "      <td>2018090600</td>\n",
       "      <td>1</td>\n",
       "      <td>NaN</td>\n",
       "      <td>NaN</td>\n",
       "      <td>NaN</td>\n",
       "      <td>NaN</td>\n",
       "      <td>NaN</td>\n",
       "      <td>NaN</td>\n",
       "      <td>NaN</td>\n",
       "      <td>NaN</td>\n",
       "      <td>NaN</td>\n",
       "      <td>NaN</td>\n",
       "      <td>NaN</td>\n",
       "      <td>NaN</td>\n",
       "    </tr>\n",
       "    <tr>\n",
       "      <th>1</th>\n",
       "      <td>2018_01_ATL_PHI</td>\n",
       "      <td>2018090600</td>\n",
       "      <td>37</td>\n",
       "      <td>PHI</td>\n",
       "      <td>NaN</td>\n",
       "      <td>NaN</td>\n",
       "      <td>NaN</td>\n",
       "      <td>NaN</td>\n",
       "      <td>NaN</td>\n",
       "      <td>NaN</td>\n",
       "      <td>NaN</td>\n",
       "      <td>NaN</td>\n",
       "      <td>NaN</td>\n",
       "      <td>NaN</td>\n",
       "      <td>NaN</td>\n",
       "    </tr>\n",
       "    <tr>\n",
       "      <th>2</th>\n",
       "      <td>2018_01_ATL_PHI</td>\n",
       "      <td>2018090600</td>\n",
       "      <td>52</td>\n",
       "      <td>ATL</td>\n",
       "      <td>NaN</td>\n",
       "      <td>2 RB, 1 TE, 2 WR</td>\n",
       "      <td>NaN</td>\n",
       "      <td>4 DL, 2 LB, 5 DB</td>\n",
       "      <td>NaN</td>\n",
       "      <td>NaN</td>\n",
       "      <td>NaN</td>\n",
       "      <td>NaN</td>\n",
       "      <td>NaN</td>\n",
       "      <td>NaN</td>\n",
       "      <td>NaN</td>\n",
       "    </tr>\n",
       "    <tr>\n",
       "      <th>3</th>\n",
       "      <td>2018_01_ATL_PHI</td>\n",
       "      <td>2018090600</td>\n",
       "      <td>75</td>\n",
       "      <td>ATL</td>\n",
       "      <td>I_FORM</td>\n",
       "      <td>2 RB, 1 TE, 2 WR</td>\n",
       "      <td>7.0</td>\n",
       "      <td>4 DL, 2 LB, 5 DB</td>\n",
       "      <td>4.0</td>\n",
       "      <td>8.89</td>\n",
       "      <td>2.502</td>\n",
       "      <td>False</td>\n",
       "      <td>HITCH</td>\n",
       "      <td>ZONE_COVERAGE</td>\n",
       "      <td>COVER_3</td>\n",
       "    </tr>\n",
       "    <tr>\n",
       "      <th>4</th>\n",
       "      <td>2018_01_ATL_PHI</td>\n",
       "      <td>2018090600</td>\n",
       "      <td>104</td>\n",
       "      <td>ATL</td>\n",
       "      <td>I_FORM</td>\n",
       "      <td>2 RB, 1 TE, 2 WR</td>\n",
       "      <td>7.0</td>\n",
       "      <td>4 DL, 2 LB, 5 DB</td>\n",
       "      <td>NaN</td>\n",
       "      <td>NaN</td>\n",
       "      <td>NaN</td>\n",
       "      <td>NaN</td>\n",
       "      <td>NaN</td>\n",
       "      <td>NaN</td>\n",
       "      <td>NaN</td>\n",
       "    </tr>\n",
       "  </tbody>\n",
       "</table>\n",
       "</div>"
      ],
      "text/plain": [
       "  nflverse_game_id  old_game_id  play_id possession_team offense_formation  \\\n",
       "0  2018_01_ATL_PHI   2018090600        1             NaN               NaN   \n",
       "1  2018_01_ATL_PHI   2018090600       37             PHI               NaN   \n",
       "2  2018_01_ATL_PHI   2018090600       52             ATL               NaN   \n",
       "3  2018_01_ATL_PHI   2018090600       75             ATL            I_FORM   \n",
       "4  2018_01_ATL_PHI   2018090600      104             ATL            I_FORM   \n",
       "\n",
       "  offense_personnel  defenders_in_box defense_personnel  \\\n",
       "0               NaN               NaN               NaN   \n",
       "1               NaN               NaN               NaN   \n",
       "2  2 RB, 1 TE, 2 WR               NaN  4 DL, 2 LB, 5 DB   \n",
       "3  2 RB, 1 TE, 2 WR               7.0  4 DL, 2 LB, 5 DB   \n",
       "4  2 RB, 1 TE, 2 WR               7.0  4 DL, 2 LB, 5 DB   \n",
       "\n",
       "   number_of_pass_rushers  ngs_air_yards  time_to_throw was_pressure  route  \\\n",
       "0                     NaN            NaN            NaN          NaN    NaN   \n",
       "1                     NaN            NaN            NaN          NaN    NaN   \n",
       "2                     NaN            NaN            NaN          NaN    NaN   \n",
       "3                     4.0           8.89          2.502        False  HITCH   \n",
       "4                     NaN            NaN            NaN          NaN    NaN   \n",
       "\n",
       "  defense_man_zone_type defense_coverage_type  \n",
       "0                   NaN                   NaN  \n",
       "1                   NaN                   NaN  \n",
       "2                   NaN                   NaN  \n",
       "3         ZONE_COVERAGE               COVER_3  \n",
       "4                   NaN                   NaN  "
      ]
     },
     "execution_count": 19,
     "metadata": {},
     "output_type": "execute_result"
    }
   ],
   "source": [
    "# See if columns were dropped\n",
    "\n",
    "NGS_pbp[18].head()"
   ]
  },
  {
   "cell_type": "markdown",
   "id": "afc4aaba-1c0a-450f-8f9f-2e46bf12d8dc",
   "metadata": {},
   "source": [
    "### Drop Columns for pbp\n",
    "\n",
    "Unfortunately, since there are so 300+ columns, this is obviously a much more difficult process. I'll organize which columns to drop by \"theme\" as I think this will be the clearest and easiest way to do so."
   ]
  },
  {
   "cell_type": "code",
   "execution_count": 91,
   "id": "2bc74c4f-8a2f-4f95-9953-cb5cfd00015f",
   "metadata": {},
   "outputs": [],
   "source": [
    "# Choose columns to drop based on \"theme\"\n",
    "\n",
    "gameInfo = [\"old_game_id\", \"week\", \"game_date\", \"season\", \"season_type\", \"week\"] # consider dropping team/posession info\n",
    "\n",
    "metaData = [\"start_time\", \"time_of_day\", \"stadium\", \n",
    "            \"weather\", \"nfl_api_id\"]\n",
    "\n",
    "timeLeft = [\"quarter_seconds_remaining\", \"half_seconds_remaining\", \n",
    "            \"game_seconds_remaining\", \"game_half\", \"quarter_end\", \"drive\"] \n",
    "\n",
    "situational = [\"sp\", \"goal_to_go\", \"yrdln\", \"ydsnet\"] \n",
    "\n",
    "# TODO: Consider keeping \"play_type\" and dropping rows where it's \"kickoff\" instead\n",
    "#\n",
    "# TODO: Same with \"qb_kneel\" or \"qb_spike\", consider dropping rows where it's 1 (i.e. true) \n",
    "# instead of dropping altogether\n",
    "playInfo = [\"desc\", \"shotgun\", \"qb_dropback\", \"qb_kneel\", \"qb_spike\", \n",
    "            \"incomplete_pass\", \"complete_pass\"]\n",
    "\n",
    "playType = [\"extra_point_attempt\",\t\"two_point_attempt\", \"field_goal_attempt\",\t\n",
    "            \"kickoff_attempt\",\t\"punt_attempt\", \"rush_attempt\", \"pass_attempt\"]\n",
    "\n",
    "kicking_and_XP = [\"field_goal_result\", \"kick_distance\", \n",
    "                  \"extra_point_result\", \"two_point_conv_result\",\n",
    "                 \"extra_point_prob\", \"two_point_conversion_prob\", \"home_opening_kickoff\"]\n",
    "\n",
    "timeouts = [\"home_timeouts_remaining\",\t\"away_timeouts_remaining\",\n",
    "            \"timeout\", \"timeout_team\", \"posteam_timeouts_remaining\",\n",
    "            \"defteam_timeouts_remaining\"]\n",
    "\n",
    "tdInfo = [\"td_team\", \"td_player_name\",\t\"td_player_id\"]\n",
    "\n",
    "scoreDiff = [\"posteam_score_post\", \"defteam_score_post\", \"score_differential_post\"]\n",
    "\n",
    "ptsTypeProb = [\"opp_fg_prob\", \"opp_safety_prob\", \"opp_td_prob\", \n",
    "               \"fg_prob\", \"safety_prob\", \"td_prob\"]\n",
    "\n",
    "epa = [\"total_home_epa\", \"total_away_epa\", \"total_home_rush_epa\", \n",
    "       \"total_away_rush_epa\", \"total_home_pass_epa\", \"total_away_pass_epa\", \n",
    "       \"air_epa\", \"yac_epa\", \"comp_air_epa\", \"comp_yac_epa\", \n",
    "       \"total_home_comp_air_epa\", \"total_away_comp_air_epa\", \n",
    "       \"total_home_comp_yac_epa\", \"total_away_comp_yac_epa\", \n",
    "       \"total_home_raw_air_epa\", \"total_away_raw_air_epa\", \n",
    "       \"total_home_raw_yac_epa\", \"total_away_raw_yac_epa\"]\n",
    "\n",
    "wpa = [\"vegas_wpa\", \"vegas_home_wpa\", \"home_wp_post\", \"away_wp_post\", \n",
    "       \"vegas_wp\", \"vegas_home_wp\", \"total_home_rush_wpa\", \"total_away_rush_wpa\", \n",
    "       \"total_home_pass_wpa\", \"total_away_pass_wpa\", \"air_wpa\", \"yac_wpa\", \n",
    "       \"comp_air_wpa\", \"comp_yac_wpa\", \"total_home_comp_air_wpa\", \n",
    "       \"total_away_comp_air_wpa\", \"total_home_comp_yac_wpa\", \n",
    "       \"total_away_comp_yac_wpa\", \"total_home_raw_air_wpa\", \"total_away_raw_air_wpa\", \n",
    "       \"total_home_raw_yac_wpa\", \"total_away_raw_yac_wpa\"]\n",
    "\n",
    "downInfo = [\"first_down_pass\", \"first_down_penalty\", \"third_down_converted\", \n",
    "            \"third_down_failed\", \"fourth_down_converted\", \"fourth_down_failed\", \n",
    "            \"first_down_rush\"]\n",
    "\n",
    "punt_and_kickoff = [\"punt_blocked\", \"touchback\", \"punt_inside_twenty\", \"punt_in_endzone\", \n",
    "                    \"punt_out_of_bounds\", \"punt_downed\", \"punt_fair_catch\", \n",
    "                    \"kickoff_inside_twenty\", \"kickoff_in_endzone\", \"kickoff_out_of_bounds\", \n",
    "                    \"kickoff_downed\", \"kickoff_fair_catch\", \"own_kickoff_recovery\"\n",
    "                    ,\"own_kickoff_recovery_td\"]\n",
    "\n",
    "turnover = [\"interception\", \"fumble_forced\", \"fumble_not_forced\", \"fumble_out_of_bounds\",\n",
    "           \"fumble_lost\", \"fumble\"]\n",
    "\n",
    "defensive = [\"solo_tackle\", \"safety\", \"qb_hit\", \"sack\", \"tackled_for_loss\", \"assist_tackle\"]\n",
    "\n",
    "touchdown = [\"touchdown\", \"pass_touchdown\", \"rush_touchdown\", \"return_touchdown\"]\n",
    "\n",
    "lateral = [\"lateral_reception\", \"lateral_rush\", \"lateral_return\", \"lateral_recovery\",\n",
    "          \"lateral_receiver_player_id\", \"lateral_receiver_player_name\", \n",
    "           \"lateral_receiving_yards\", \"lateral_rusher_player_id\", \n",
    "           \"lateral_rusher_player_name\", \"lateral_rushing_yards\", \n",
    "           \"lateral_sack_player_id\", \"lateral_sack_player_name\",\n",
    "          \"lateral_interception_player_name\",\"lateral_punt_returner_player_id\",\n",
    "           \"lateral_punt_returner_player_name\", \"lateral_interception_player_id\",\n",
    "           \"lateral_kickoff_returner_player_id\", \"lateral_kickoff_returner_player_name\"]\n",
    "\n",
    "offPlayerID = [\"passer_player_id\", \"passer_player_name\", \"passing_yards\", \n",
    "               \"receiver_player_id\", \"receiver_player_name\", \"receiving_yards\", \n",
    "               \"rusher_player_id\", \"rusher_player_name\", \"rushing_yards\"]\n",
    "\n",
    "puntPlayerID = [\"punt_returner_player_id\", \"punt_returner_player_name\",\n",
    "               \"punter_player_id\", \"punter_player_name\"]\n",
    "\n",
    "kickingPlayerID = [\"kickoff_returner_player_name\",\t\"kickoff_returner_player_id\",\n",
    "                   \"kicker_player_name\", \"kicker_player_id\",\n",
    "                   \"own_kickoff_recovery_player_id\", \"own_kickoff_recovery_player_name\", \n",
    "                   \"blocked_player_id\", \"blocked_player_name\", \"return_team\", \"return_yards\"]\n",
    "\n",
    "defensePlayerID = [\"tackle_for_loss_1_player_id\", \"tackle_for_loss_1_player_name\", \n",
    "                   \"tackle_for_loss_2_player_id\", \"tackle_for_loss_2_player_name\", \n",
    "                   \"qb_hit_1_player_id\", \"qb_hit_1_player_name\", \"qb_hit_2_player_id\", \n",
    "                   \"qb_hit_2_player_name\", \"forced_fumble_player_1_team\", \n",
    "                   \"forced_fumble_player_1_player_id\", \"forced_fumble_player_1_player_name\", \n",
    "                   \"forced_fumble_player_2_team\", \"forced_fumble_player_2_player_id\", \n",
    "                   \"forced_fumble_player_2_player_name\", \"solo_tackle_1_team\", \"solo_tackle_2_team\", \n",
    "                   \"solo_tackle_1_player_id\", \"solo_tackle_2_player_id\", \"solo_tackle_1_player_name\",\n",
    "                   \"solo_tackle_2_player_name\", \"assist_tackle_1_player_id\", \"assist_tackle_1_player_name\", \n",
    "                   \"assist_tackle_1_team\", \"assist_tackle_2_player_id\", \"assist_tackle_2_player_name\", \n",
    "                   \"assist_tackle_2_team\", \"assist_tackle_3_player_id\", \"assist_tackle_3_player_name\", \n",
    "                   \"assist_tackle_3_team\", \"assist_tackle_4_player_id\", \"assist_tackle_4_player_name\", \n",
    "                   \"assist_tackle_4_team\", \"tackle_with_assist\", \"tackle_with_assist_1_player_id\", \n",
    "                   \"tackle_with_assist_1_player_name\", \"tackle_with_assist_1_team\", \n",
    "                   \"tackle_with_assist_2_player_id\", \"tackle_with_assist_2_player_name\",\n",
    "                   \"tackle_with_assist_2_team\", \"pass_defense_1_player_id\", \"pass_defense_1_player_name\", \n",
    "                   \"pass_defense_2_player_id\", \"pass_defense_2_player_name\", \"fumbled_1_team\", \n",
    "                   \"fumbled_1_player_id\", \"fumbled_1_player_name\", \"fumbled_2_player_id\", \n",
    "                   \"fumbled_2_player_name\", \"fumbled_2_team\", \"fumble_recovery_1_team\", \n",
    "                   \"fumble_recovery_1_yards\", \"fumble_recovery_1_player_id\", \n",
    "                   \"fumble_recovery_1_player_name\", \"fumble_recovery_2_team\", \"fumble_recovery_2_yards\", \n",
    "                   \"fumble_recovery_2_player_id\", \"fumble_recovery_2_player_name\", \"sack_player_id\", \n",
    "                   \"sack_player_name\", \"half_sack_1_player_id\", \"half_sack_1_player_name\", \n",
    "                   \"half_sack_2_player_id\", \"half_sack_2_player_name\", \"interception_player_id\",\n",
    "                   \"interception_player_name\"]\n",
    "\n",
    "ref = [\"replay_or_challenge\", \"replay_or_challenge_result\",\t\"penalty_type\"]\n",
    "\n",
    "safety = [\"defensive_two_point_attempt\", \"defensive_two_point_conv\", \n",
    "          \"defensive_extra_point_attempt\", \"defensive_extra_point_conv\", \n",
    "          \"safety_player_name\", \"safety_player_id\"]\n",
    "\n",
    "cpoe = [\"cp\", \"cpoe\"]\n",
    "\n",
    "series = [\"series\", \"series_success\", \"series_result\", \"order_sequence\"]\n",
    "\n",
    "playClock = [\"play_clock\", \"play_deleted\"]\n",
    "\n",
    "stPlay = [\"special_teams_play\",\t\"st_play_type\"]\n",
    "\n",
    "drive = [\"end_clock_time\", \"end_yard_line\", \"fixed_drive\", \"fixed_drive_result\", \n",
    "         \"drive_real_start_time\", \"drive_play_count\", \"drive_time_of_possession\", \n",
    "         \"drive_first_downs\", \"drive_inside20\", \"drive_ended_with_score\", \n",
    "         \"drive_quarter_start\", \"drive_quarter_end\", \"drive_yards_penalized\", \n",
    "         \"drive_start_transition\", \"drive_end_transition\", \"drive_game_clock_start\", \n",
    "         \"drive_game_clock_end\", \"drive_start_yard_line\", \"drive_end_yard_line\", \n",
    "         \"drive_play_id_started\", \"drive_play_id_ended\"]\n",
    "\n",
    "gameScoreData = [\"away_score\", \"home_score\", \"location\", \"result\", \"total\", \n",
    "                 \"spread_line\", \"total_line\", \"div_game\"]\n",
    "\n",
    "weather_stadium_conditions = [\"roof\", \"surface\", \"temp\", \"wind\", \n",
    "                              \"stadium_id\", \"game_stadium\"]\n",
    "\n",
    "coaches = [\"home_coach\", \"away_coach\"]\n",
    "\n",
    "\n",
    "abortedPlay = [\"aborted_play\", \"success\"]\n",
    "\n",
    "offJerseys = [\"passer\", \"passer_jersey_number\", \"rusher\", \n",
    "                 \"rusher_jersey_number\", \"receiver\", \"receiver_jersey_number\",\n",
    "             \"passer_id\", \"rusher_id\", \"receiver_id\", \"name\", \"jersey_number\", \"id\"]\n",
    "\n",
    "playEncoding = [\"pass\", \"rush\", \"first_down\", \"special\", \"play\"]\n",
    "\n",
    "fantasy = [\"fantasy_player_name\", \"fantasy_player_id\", \"fantasy\", \"fantasy_id\"]\n",
    "\n",
    "exp_epa = [\"qb_epa\", \"xyac_epa\", \"xyac_mean_yardage\", \"xyac_median_yardage\", \n",
    "           \"xyac_success\", \"xyac_fd\", \"xpass\", \"pass_oe\"]\n",
    "\n",
    "# Should this be dropped? How would this affect EPA?\n",
    "penalty = [\"penalty\", \"penalty_player_id\",\t\"penalty_player_name\",\t\"penalty_yards\", \"penalty_team\"]"
   ]
  },
  {
   "cell_type": "code",
   "execution_count": 92,
   "id": "9f0f87fa-0238-40c7-95d2-8d8af8a4ab41",
   "metadata": {},
   "outputs": [],
   "source": [
    "\n",
    "# Dictionary mapping list names to their respective lists\n",
    "columnTypes = {\n",
    "    \"playInfo\": playInfo,\n",
    "    \"metaData\": metaData,\n",
    "    \"playType\": playType,\n",
    "    \"timeLeft\" : timeLeft,\n",
    "    \"situational\": situational,\n",
    "    \"kicking_and_XP\": kicking_and_XP,\n",
    "    \"timeouts\": timeouts,\n",
    "    \"tdInfo\": tdInfo,\n",
    "    \"scoreDiff\": scoreDiff,\n",
    "    \"ptsTypeProb\": ptsTypeProb,\n",
    "    \"epa\": epa,\n",
    "    \"wpa\": wpa,\n",
    "    \"downInfo\": downInfo,\n",
    "    \"punt_and_kickoff\": punt_and_kickoff,\n",
    "    \"turnover\": turnover,\n",
    "    \"defensive\": defensive,\n",
    "    \"touchdown\": touchdown,\n",
    "    \"lateral\": lateral,\n",
    "    \"offPlayerID\": offPlayerID,\n",
    "    \"puntPlayerID\": puntPlayerID,\n",
    "    \"kickingPlayerID\": kickingPlayerID,\n",
    "    \"defensePlayerID\": defensePlayerID,\n",
    "    \"ref\": ref,\n",
    "    \"safety\": safety,\n",
    "    \"cpoe\": cpoe,\n",
    "    \"series\": series,\n",
    "    \"playClock\": playClock,\n",
    "    \"stPlay\": stPlay,\n",
    "    \"drive\": drive,\n",
    "    \"gameScoreData\": gameScoreData,\n",
    "    \"weather_stadium_conditions\": weather_stadium_conditions,\n",
    "    \"coaches\": coaches,\n",
    "    \"abortedPlay\": abortedPlay,\n",
    "    \"offJerseys\": offJerseys,\n",
    "    \"playEncoding\": playEncoding,\n",
    "    \"fantasy\": fantasy,\n",
    "    \"exp_epa\": exp_epa,\n",
    "    \"penalty\": penalty,\n",
    "}\n"
   ]
  },
  {
   "cell_type": "code",
   "execution_count": 93,
   "id": "d1646497-f44a-49b9-a9ba-40576c861306",
   "metadata": {},
   "outputs": [],
   "source": [
    "for x in years:\n",
    "    for c in columnTypes.values():\n",
    "        pbp[x] = pbp[x].drop(columns = c)"
   ]
  },
  {
   "cell_type": "code",
   "execution_count": 22,
   "id": "53e6ee6d-4598-4d4e-946f-cd4bfdd3bf26",
   "metadata": {},
   "outputs": [
    {
     "name": "stderr",
     "output_type": "stream",
     "text": [
      "/var/folders/z2/rm0rvjws51g2b4p7_0ns_31w0000gp/T/ipykernel_29834/373737467.py:1: DtypeWarning: Columns (40,41,44,45,49,50,51,52,179,180,182,183,187,188,191,192,193,194,195,196,197,198,199,200,203,204,205,206,207,208,211,212,213,214,215,216,217,218,219,220,222,224,226,227,228,229,230,231,232,240,241,242,246,247,248,249,250,251,252,253,254,255,256,258,259,260,262,263,264,265,266,267,268,269,270,272,273,274,277,278,283,284) have mixed types. Specify dtype option on import or set low_memory=False.\n",
      "  pbp[18] = pd.read_csv('data/raw/pbp/play_by_play_2018.csv')\n"
     ]
    }
   ],
   "source": [
    "# Test on one dataframe\n",
    "\n",
    "'''\n",
    "pbp[18] = pd.read_csv('data/raw/pbp/play_by_play_2018.csv')\n",
    "\n",
    "for c in columnTypes.values():\n",
    "        pbp[18] = pbp[18].drop(columns = c)\n",
    "\n",
    "pbp[18].to_csv('data/test_2018.csv')\n",
    "'''"
   ]
  },
  {
   "cell_type": "code",
   "execution_count": 94,
   "id": "08df4751-cdf0-4e53-a020-d088c83d3074",
   "metadata": {},
   "outputs": [
    {
     "name": "stdout",
     "output_type": "stream",
     "text": [
      "In 2018 there are 47109 rows and 43 columns.\n",
      "In 2019 there are 47258 rows and 43 columns.\n",
      "In 2020 there are 47705 rows and 43 columns.\n",
      "In 2021 there are 49922 rows and 43 columns.\n",
      "In 2022 there are 49434 rows and 43 columns.\n",
      "In 2023 there are 49665 rows and 43 columns.\n"
     ]
    }
   ],
   "source": [
    "# Dimensions after cleaning\n",
    "# There used to be like 360+ columns and 47k+ rows in any given dataframe\n",
    "\n",
    "for x in years:\n",
    "    print(\"In 20\" + str(x) + \" there are \" + str(len(pbp[x])) + \" rows and \"\n",
    "          + str(len(pbp[x].columns)) + \" columns.\")"
   ]
  },
  {
   "cell_type": "markdown",
   "id": "095141f5-1e1e-4b7d-ba57-055a019f02ec",
   "metadata": {},
   "source": [
    "# Clean Rows\n",
    "\n",
    "Eliminate plays (i.e. rows) that are unwanted. These plays include clock management plays (e.g. spikes and kneels), outliers (e.g. safeties), special team plays, XPs, null values, etc.\n",
    "\n",
    "NOTE: This doesn't account for safeties. I may have accidentally dropped a column that specified if a play was a safety. However, considering how few safeties there are and how safeties are accounted for in EPA already, I'm not sure if accounting for this is a priority."
   ]
  },
  {
   "cell_type": "markdown",
   "id": "76542ac9-080d-4721-bfa1-d2bf29d8463e",
   "metadata": {},
   "source": [
    "## Drop pbp Rows"
   ]
  },
  {
   "cell_type": "code",
   "execution_count": 27,
   "id": "204109b9-1c24-46b7-a01f-621783f54f44",
   "metadata": {},
   "outputs": [
    {
     "name": "stdout",
     "output_type": "stream",
     "text": [
      "[nan 'kickoff' 'no_play' 'pass' 'run' 'punt' 'field_goal' 'qb_kneel'\n",
      " 'extra_point' 'qb_spike']\n",
      "['GAME_START' 'KICK_OFF' 'PENALTY' 'PASS' 'RUSH' 'PUNT' 'FIELD_GOAL'\n",
      " 'SACK' 'END_QUARTER' 'TIMEOUT' 'UNSPECIFIED' 'XP_KICK' 'INTERCEPTION'\n",
      " 'PAT2' 'END_GAME' 'COMMENT' 'FUMBLE_RECOVERED_BY_OPPONENT' 'FREE_KICK']\n"
     ]
    }
   ],
   "source": [
    "# First see the levels of play types\n",
    "\n",
    "print(pbp[18]['play_type'].unique())\n",
    "\n",
    "# I don't want to use this column because already covers\n",
    "# a lot of the plays in `play_type_nfl`.\n",
    "# print(pbp[18]['play_type_nfl'].unique())\n",
    "\n"
   ]
  },
  {
   "cell_type": "code",
   "execution_count": 95,
   "id": "56b655d5-f027-4252-96da-8503fd8e82a0",
   "metadata": {},
   "outputs": [],
   "source": [
    "# Create list of plays we want to drop\n",
    "\n",
    "play_type_drop = [float('nan'), 'kickoff', 'no_play', 'punt', 'field_goal', 'qb_kneel', 'qb_spike', 'extra_point']"
   ]
  },
  {
   "cell_type": "code",
   "execution_count": 96,
   "id": "b45380f7-a658-41a7-aac9-d42c9ad1f98b",
   "metadata": {},
   "outputs": [],
   "source": [
    "# Drop Rows\n",
    "\n",
    "for x in years:\n",
    "    df = pbp[x]\n",
    "    pbp[x] = df[~df['play_type'].isin(play_type_drop)]"
   ]
  },
  {
   "cell_type": "code",
   "execution_count": 97,
   "id": "6241c012-73e2-418e-bd44-d1c356f40cf3",
   "metadata": {},
   "outputs": [
    {
     "name": "stdout",
     "output_type": "stream",
     "text": [
      "In 2018 there are 33292 rows and 43 columns.\n",
      "In 2019 there are 33508 rows and 43 columns.\n",
      "In 2020 there are 34238 rows and 43 columns.\n",
      "In 2021 there are 35766 rows and 43 columns.\n",
      "In 2022 there are 35430 rows and 43 columns.\n",
      "In 2023 there are 35600 rows and 43 columns.\n"
     ]
    }
   ],
   "source": [
    "# Dimensions after cleaning\n",
    "# There used to be like 360+ columns and 47k+ rows in any given dataframe\n",
    "for x in years:\n",
    "    print(\"In 20\" + str(x) + \" there are \" + str(len(pbp[x])) + \" rows and \"\n",
    "          + str(len(pbp[x].columns)) + \" columns.\")"
   ]
  },
  {
   "cell_type": "markdown",
   "id": "4cb49dfe-5b2a-447b-b41a-10f03ccb65bb",
   "metadata": {},
   "source": [
    "# Export Data"
   ]
  },
  {
   "cell_type": "code",
   "execution_count": 98,
   "id": "18151ffe-9a82-489d-862a-ed9a011ed348",
   "metadata": {},
   "outputs": [
    {
     "ename": "TypeError",
     "evalue": "can only concatenate str (not \"list\") to str",
     "output_type": "error",
     "traceback": [
      "\u001b[0;31m---------------------------------------------------------------------------\u001b[0m",
      "\u001b[0;31mTypeError\u001b[0m                                 Traceback (most recent call last)",
      "Cell \u001b[0;32mIn[98], line 3\u001b[0m\n\u001b[1;32m      1\u001b[0m \u001b[38;5;66;03m# Export pbp to CSVs\u001b[39;00m\n\u001b[1;32m      2\u001b[0m \u001b[38;5;28;01mfor\u001b[39;00m x \u001b[38;5;129;01min\u001b[39;00m years:\n\u001b[0;32m----> 3\u001b[0m     pbp[x]\u001b[38;5;241m.\u001b[39mto_csv(\u001b[38;5;124m'\u001b[39m\u001b[38;5;124mcleanData/pbp/pbp_clean_20\u001b[39m\u001b[38;5;124m'\u001b[39m \u001b[38;5;241m+\u001b[39m [x] \u001b[38;5;241m+\u001b[39m \u001b[38;5;124m'\u001b[39m\u001b[38;5;124m.csv\u001b[39m\u001b[38;5;124m'\u001b[39m)\n",
      "\u001b[0;31mTypeError\u001b[0m: can only concatenate str (not \"list\") to str"
     ]
    }
   ],
   "source": [
    "# Export pbp to CSVs\n",
    "for x in years:\n",
    "    pbp[x].to_csv('cleanData/pbp/pbp_clean_20' + str(x) + '.csv')"
   ]
  },
  {
   "cell_type": "code",
   "execution_count": null,
   "id": "d0cc0c13-1554-453a-9367-ebf84686b0ae",
   "metadata": {},
   "outputs": [],
   "source": []
  }
 ],
 "metadata": {
  "kernelspec": {
   "display_name": "Python 3 (ipykernel)",
   "language": "python",
   "name": "python3"
  },
  "language_info": {
   "codemirror_mode": {
    "name": "ipython",
    "version": 3
   },
   "file_extension": ".py",
   "mimetype": "text/x-python",
   "name": "python",
   "nbconvert_exporter": "python",
   "pygments_lexer": "ipython3",
   "version": "3.12.4"
  }
 },
 "nbformat": 4,
 "nbformat_minor": 5
}
